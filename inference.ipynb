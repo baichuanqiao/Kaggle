{
 "cells": [
  {
   "cell_type": "code",
   "execution_count": 1,
   "metadata": {
    "_cell_guid": "b1076dfc-b9ad-4769-8c92-a6c4dae69d19",
    "_uuid": "8f2839f25d086af736a60e9eeb907d3b93b6e0e5",
    "execution": {
     "iopub.execute_input": "2021-01-07T13:32:39.546051Z",
     "iopub.status.busy": "2021-01-07T13:32:39.545151Z",
     "iopub.status.idle": "2021-01-07T13:33:10.213154Z",
     "shell.execute_reply": "2021-01-07T13:33:10.212460Z"
    },
    "papermill": {
     "duration": 30.741023,
     "end_time": "2021-01-07T13:33:10.213304",
     "exception": false,
     "start_time": "2021-01-07T13:32:39.472281",
     "status": "completed"
    },
    "tags": []
   },
   "outputs": [],
   "source": [
    "!pip install ../input/python-datatable/datatable-0.11.0-cp37-cp37m-manylinux2010_x86_64.whl > /dev/null 2>&1"
   ]
  },
  {
   "cell_type": "code",
   "execution_count": 2,
   "metadata": {
    "execution": {
     "iopub.execute_input": "2021-01-07T13:33:10.352493Z",
     "iopub.status.busy": "2021-01-07T13:33:10.350745Z",
     "iopub.status.idle": "2021-01-07T13:33:10.568984Z",
     "shell.execute_reply": "2021-01-07T13:33:10.569531Z"
    },
    "papermill": {
     "duration": 0.291226,
     "end_time": "2021-01-07T13:33:10.569720",
     "exception": false,
     "start_time": "2021-01-07T13:33:10.278494",
     "status": "completed"
    },
    "tags": []
   },
   "outputs": [],
   "source": [
    "import numpy as np\n",
    "import random\n",
    "import pandas as pd\n",
    "import joblib"
   ]
  },
  {
   "cell_type": "code",
   "execution_count": 3,
   "metadata": {
    "_cell_guid": "79c7e3d0-c299-4dcb-8224-4455121ee9b0",
    "_uuid": "d629ff2d2480ee46fbb7e2d37f6b5fab8052498a",
    "execution": {
     "iopub.execute_input": "2021-01-07T13:33:10.703743Z",
     "iopub.status.busy": "2021-01-07T13:33:10.702877Z",
     "iopub.status.idle": "2021-01-07T13:33:11.816942Z",
     "shell.execute_reply": "2021-01-07T13:33:11.816042Z"
    },
    "papermill": {
     "duration": 1.183049,
     "end_time": "2021-01-07T13:33:11.817081",
     "exception": false,
     "start_time": "2021-01-07T13:33:10.634032",
     "status": "completed"
    },
    "tags": []
   },
   "outputs": [
    {
     "data": {
      "text/html": [
       "<style type='text/css'>\n",
       ".datatable table.frame { margin-bottom: 0; }\n",
       ".datatable table.frame thead { border-bottom: none; }\n",
       ".datatable table.frame tr.coltypes td {  color: #FFFFFF;  line-height: 6px;  padding: 0 0.5em;}\n",
       ".datatable .bool    { background: #DDDD99; }\n",
       ".datatable .object  { background: #565656; }\n",
       ".datatable .int     { background: #5D9E5D; }\n",
       ".datatable .float   { background: #4040CC; }\n",
       ".datatable .str     { background: #CC4040; }\n",
       ".datatable .row_index {  background: var(--jp-border-color3);  border-right: 1px solid var(--jp-border-color0);  color: var(--jp-ui-font-color3);  font-size: 9px;}\n",
       ".datatable .frame tr.coltypes .row_index {  background: var(--jp-border-color0);}\n",
       ".datatable th:nth-child(2) { padding-left: 12px; }\n",
       ".datatable .hellipsis {  color: var(--jp-cell-editor-border-color);}\n",
       ".datatable .vellipsis {  background: var(--jp-layout-color0);  color: var(--jp-cell-editor-border-color);}\n",
       ".datatable .na {  color: var(--jp-cell-editor-border-color);  font-size: 80%;}\n",
       ".datatable .footer { font-size: 9px; }\n",
       ".datatable .frame_dimensions {  background: var(--jp-border-color3);  border-top: 1px solid var(--jp-border-color0);  color: var(--jp-ui-font-color3);  display: inline-block;  opacity: 0.6;  padding: 1px 10px 1px 5px;}\n",
       "</style>\n"
      ],
      "text/plain": [
       "<IPython.core.display.HTML object>"
      ]
     },
     "metadata": {},
     "output_type": "display_data"
    }
   ],
   "source": [
    "from collections import defaultdict\n",
    "import datatable as dt\n",
    "import lightgbm as lgb\n",
    "from matplotlib import pyplot as plt\n",
    "import riiideducation\n",
    "from sklearn.metrics import roc_auc_score\n",
    "import gc\n",
    "\n",
    "_ = np.seterr(divide='ignore', invalid='ignore')"
   ]
  },
  {
   "cell_type": "markdown",
   "metadata": {
    "papermill": {
     "duration": 0.064364,
     "end_time": "2021-01-07T13:33:11.950000",
     "exception": false,
     "start_time": "2021-01-07T13:33:11.885636",
     "status": "completed"
    },
    "tags": []
   },
   "source": [
    "# Preprocess"
   ]
  },
  {
   "cell_type": "code",
   "execution_count": 4,
   "metadata": {
    "execution": {
     "iopub.execute_input": "2021-01-07T13:33:12.087909Z",
     "iopub.status.busy": "2021-01-07T13:33:12.086872Z",
     "iopub.status.idle": "2021-01-07T13:33:12.092851Z",
     "shell.execute_reply": "2021-01-07T13:33:12.093448Z"
    },
    "papermill": {
     "duration": 0.074172,
     "end_time": "2021-01-07T13:33:12.093606",
     "exception": false,
     "start_time": "2021-01-07T13:33:12.019434",
     "status": "completed"
    },
    "tags": []
   },
   "outputs": [],
   "source": [
    "data_types_dict = {\n",
    "    'timestamp': 'int64',\n",
    "    'user_id': 'int32', \n",
    "    'content_id': 'int16', \n",
    "    'content_type_id':'int8', \n",
    "    'task_container_id': 'int16',\n",
    "    #'user_answer': 'int8',\n",
    "    'answered_correctly': 'int8', \n",
    "    'prior_question_elapsed_time': 'float32', \n",
    "    'prior_question_had_explanation': 'bool'\n",
    "}\n",
    "target = 'answered_correctly'"
   ]
  },
  {
   "cell_type": "code",
   "execution_count": 5,
   "metadata": {
    "execution": {
     "iopub.execute_input": "2021-01-07T13:33:12.225730Z",
     "iopub.status.busy": "2021-01-07T13:33:12.224729Z",
     "iopub.status.idle": "2021-01-07T13:34:37.563964Z",
     "shell.execute_reply": "2021-01-07T13:34:37.563212Z"
    },
    "papermill": {
     "duration": 85.406377,
     "end_time": "2021-01-07T13:34:37.564115",
     "exception": false,
     "start_time": "2021-01-07T13:33:12.157738",
     "status": "completed"
    },
    "tags": []
   },
   "outputs": [
    {
     "name": "stdout",
     "output_type": "stream",
     "text": [
      "start read train data...\n"
     ]
    }
   ],
   "source": [
    "print('start read train data...')\n",
    "train_df = dt.fread('../input/riiid-test-answer-prediction/train.csv', columns=set(data_types_dict.keys())).to_pandas()"
   ]
  },
  {
   "cell_type": "code",
   "execution_count": 6,
   "metadata": {
    "execution": {
     "iopub.execute_input": "2021-01-07T13:34:37.696933Z",
     "iopub.status.busy": "2021-01-07T13:34:37.696240Z",
     "iopub.status.idle": "2021-01-07T13:34:37.698774Z",
     "shell.execute_reply": "2021-01-07T13:34:37.699323Z"
    },
    "papermill": {
     "duration": 0.071674,
     "end_time": "2021-01-07T13:34:37.699502",
     "exception": false,
     "start_time": "2021-01-07T13:34:37.627828",
     "status": "completed"
    },
    "tags": []
   },
   "outputs": [],
   "source": [
    "# train_df=train_df.sample(frac=0.1).reset_index(drop=True)"
   ]
  },
  {
   "cell_type": "code",
   "execution_count": 7,
   "metadata": {
    "execution": {
     "iopub.execute_input": "2021-01-07T13:34:37.837189Z",
     "iopub.status.busy": "2021-01-07T13:34:37.836086Z",
     "iopub.status.idle": "2021-01-07T13:34:37.840633Z",
     "shell.execute_reply": "2021-01-07T13:34:37.841655Z"
    },
    "papermill": {
     "duration": 0.076367,
     "end_time": "2021-01-07T13:34:37.841895",
     "exception": false,
     "start_time": "2021-01-07T13:34:37.765528",
     "status": "completed"
    },
    "tags": []
   },
   "outputs": [
    {
     "name": "stdout",
     "output_type": "stream",
     "text": [
      "start handle lecture data...\n"
     ]
    }
   ],
   "source": [
    "print('start handle lecture data...')"
   ]
  },
  {
   "cell_type": "code",
   "execution_count": 8,
   "metadata": {
    "execution": {
     "iopub.execute_input": "2021-01-07T13:34:37.993438Z",
     "iopub.status.busy": "2021-01-07T13:34:37.992666Z",
     "iopub.status.idle": "2021-01-07T13:34:38.004929Z",
     "shell.execute_reply": "2021-01-07T13:34:38.005560Z"
    },
    "papermill": {
     "duration": 0.089455,
     "end_time": "2021-01-07T13:34:38.005743",
     "exception": false,
     "start_time": "2021-01-07T13:34:37.916288",
     "status": "completed"
    },
    "tags": []
   },
   "outputs": [],
   "source": [
    "#reading in lecture df\n",
    "lectures_df = pd.read_csv('/kaggle/input/riiid-test-answer-prediction/lectures.csv')"
   ]
  },
  {
   "cell_type": "code",
   "execution_count": 9,
   "metadata": {
    "execution": {
     "iopub.execute_input": "2021-01-07T13:34:38.142788Z",
     "iopub.status.busy": "2021-01-07T13:34:38.142115Z",
     "iopub.status.idle": "2021-01-07T13:34:38.179938Z",
     "shell.execute_reply": "2021-01-07T13:34:38.180823Z"
    },
    "papermill": {
     "duration": 0.109432,
     "end_time": "2021-01-07T13:34:38.181059",
     "exception": false,
     "start_time": "2021-01-07T13:34:38.071627",
     "status": "completed"
    },
    "tags": []
   },
   "outputs": [],
   "source": [
    "lectures_df['type_of'] = lectures_df['type_of'].replace('solving question', 'solving_question')\n",
    "\n",
    "lectures_df = pd.get_dummies(lectures_df, columns=['part', 'type_of'])\n",
    "\n",
    "part_lectures_columns = [column for column in lectures_df.columns if column.startswith('part')]\n",
    "\n",
    "types_of_lectures_columns = [column for column in lectures_df.columns if column.startswith('type_of_')]"
   ]
  },
  {
   "cell_type": "code",
   "execution_count": 10,
   "metadata": {
    "execution": {
     "iopub.execute_input": "2021-01-07T13:34:38.322034Z",
     "iopub.status.busy": "2021-01-07T13:34:38.321337Z",
     "iopub.status.idle": "2021-01-07T13:34:39.467404Z",
     "shell.execute_reply": "2021-01-07T13:34:39.467924Z"
    },
    "papermill": {
     "duration": 1.220474,
     "end_time": "2021-01-07T13:34:39.468131",
     "exception": false,
     "start_time": "2021-01-07T13:34:38.247657",
     "status": "completed"
    },
    "tags": []
   },
   "outputs": [],
   "source": [
    "train_lectures = train_df[train_df.content_type_id == True].merge(lectures_df, left_on='content_id', right_on='lecture_id', how='left')"
   ]
  },
  {
   "cell_type": "code",
   "execution_count": 11,
   "metadata": {
    "execution": {
     "iopub.execute_input": "2021-01-07T13:34:39.612745Z",
     "iopub.status.busy": "2021-01-07T13:34:39.608904Z",
     "iopub.status.idle": "2021-01-07T13:34:40.066481Z",
     "shell.execute_reply": "2021-01-07T13:34:40.066967Z"
    },
    "papermill": {
     "duration": 0.531297,
     "end_time": "2021-01-07T13:34:40.067171",
     "exception": false,
     "start_time": "2021-01-07T13:34:39.535874",
     "status": "completed"
    },
    "tags": []
   },
   "outputs": [],
   "source": [
    "user_lecture_stats_part = train_lectures.groupby('user_id',as_index = False)[part_lectures_columns + types_of_lectures_columns].sum()"
   ]
  },
  {
   "cell_type": "code",
   "execution_count": 12,
   "metadata": {
    "execution": {
     "iopub.execute_input": "2021-01-07T13:34:40.210186Z",
     "iopub.status.busy": "2021-01-07T13:34:40.207979Z",
     "iopub.status.idle": "2021-01-07T13:34:40.219400Z",
     "shell.execute_reply": "2021-01-07T13:34:40.218732Z"
    },
    "papermill": {
     "duration": 0.086359,
     "end_time": "2021-01-07T13:34:40.219538",
     "exception": false,
     "start_time": "2021-01-07T13:34:40.133179",
     "status": "completed"
    },
    "tags": []
   },
   "outputs": [],
   "source": [
    "lecturedata_types_dict = {   \n",
    "    'user_id': 'int32', \n",
    "    'part_1': 'int8',\n",
    "    'part_2': 'int8',\n",
    "    'part_3': 'int8',\n",
    "    'part_4': 'int8',\n",
    "    'part_5': 'int8',\n",
    "    'part_6': 'int8',\n",
    "    'part_7': 'int8',\n",
    "    'type_of_concept': 'int8',\n",
    "    'type_of_intention': 'int8',\n",
    "    'type_of_solving_question': 'int8',\n",
    "    'type_of_starter': 'int8'\n",
    "}\n",
    "user_lecture_stats_part = user_lecture_stats_part.astype(lecturedata_types_dict)"
   ]
  },
  {
   "cell_type": "code",
   "execution_count": 13,
   "metadata": {
    "execution": {
     "iopub.execute_input": "2021-01-07T13:34:40.358280Z",
     "iopub.status.busy": "2021-01-07T13:34:40.357557Z",
     "iopub.status.idle": "2021-01-07T13:34:40.370752Z",
     "shell.execute_reply": "2021-01-07T13:34:40.369994Z"
    },
    "papermill": {
     "duration": 0.084511,
     "end_time": "2021-01-07T13:34:40.370884",
     "exception": false,
     "start_time": "2021-01-07T13:34:40.286373",
     "status": "completed"
    },
    "tags": []
   },
   "outputs": [],
   "source": [
    "for column in user_lecture_stats_part.columns:\n",
    "    #bool_column = column + '_boolean'\n",
    "    if(column !='user_id'):\n",
    "        user_lecture_stats_part[column] = (user_lecture_stats_part[column] > 0).astype('int8')"
   ]
  },
  {
   "cell_type": "code",
   "execution_count": 14,
   "metadata": {
    "execution": {
     "iopub.execute_input": "2021-01-07T13:34:40.515899Z",
     "iopub.status.busy": "2021-01-07T13:34:40.514827Z",
     "iopub.status.idle": "2021-01-07T13:34:40.520445Z",
     "shell.execute_reply": "2021-01-07T13:34:40.519753Z"
    },
    "papermill": {
     "duration": 0.081326,
     "end_time": "2021-01-07T13:34:40.520565",
     "exception": false,
     "start_time": "2021-01-07T13:34:40.439239",
     "status": "completed"
    },
    "tags": []
   },
   "outputs": [
    {
     "data": {
      "text/plain": [
       "user_id                     int32\n",
       "part_1                       int8\n",
       "part_2                       int8\n",
       "part_3                       int8\n",
       "part_4                       int8\n",
       "part_5                       int8\n",
       "part_6                       int8\n",
       "part_7                       int8\n",
       "type_of_concept              int8\n",
       "type_of_intention            int8\n",
       "type_of_solving_question     int8\n",
       "type_of_starter              int8\n",
       "dtype: object"
      ]
     },
     "execution_count": 14,
     "metadata": {},
     "output_type": "execute_result"
    }
   ],
   "source": [
    "user_lecture_stats_part.dtypes"
   ]
  },
  {
   "cell_type": "code",
   "execution_count": 15,
   "metadata": {
    "execution": {
     "iopub.execute_input": "2021-01-07T13:34:40.658384Z",
     "iopub.status.busy": "2021-01-07T13:34:40.657686Z",
     "iopub.status.idle": "2021-01-07T13:34:40.792599Z",
     "shell.execute_reply": "2021-01-07T13:34:40.791793Z"
    },
    "papermill": {
     "duration": 0.20523,
     "end_time": "2021-01-07T13:34:40.792718",
     "exception": false,
     "start_time": "2021-01-07T13:34:40.587488",
     "status": "completed"
    },
    "tags": []
   },
   "outputs": [
    {
     "data": {
      "text/plain": [
       "80"
      ]
     },
     "execution_count": 15,
     "metadata": {},
     "output_type": "execute_result"
    }
   ],
   "source": [
    "#clearing memory\n",
    "del(train_lectures)\n",
    "gc.collect()"
   ]
  },
  {
   "cell_type": "code",
   "execution_count": 16,
   "metadata": {
    "execution": {
     "iopub.execute_input": "2021-01-07T13:34:40.934942Z",
     "iopub.status.busy": "2021-01-07T13:34:40.934268Z",
     "iopub.status.idle": "2021-01-07T13:34:45.732420Z",
     "shell.execute_reply": "2021-01-07T13:34:45.732960Z"
    },
    "papermill": {
     "duration": 4.873218,
     "end_time": "2021-01-07T13:34:45.733136",
     "exception": false,
     "start_time": "2021-01-07T13:34:40.859918",
     "status": "completed"
    },
    "tags": []
   },
   "outputs": [],
   "source": [
    "user_lecture_agg = train_df.groupby('user_id')['content_type_id'].agg(['sum', 'count'])\n",
    "user_lecture_agg=user_lecture_agg.astype('int16')"
   ]
  },
  {
   "cell_type": "code",
   "execution_count": 17,
   "metadata": {
    "execution": {
     "iopub.execute_input": "2021-01-07T13:34:45.879711Z",
     "iopub.status.busy": "2021-01-07T13:34:45.879028Z",
     "iopub.status.idle": "2021-01-07T13:35:01.354979Z",
     "shell.execute_reply": "2021-01-07T13:35:01.354361Z"
    },
    "papermill": {
     "duration": 15.553663,
     "end_time": "2021-01-07T13:35:01.355139",
     "exception": false,
     "start_time": "2021-01-07T13:34:45.801476",
     "status": "completed"
    },
    "tags": []
   },
   "outputs": [],
   "source": [
    "\n",
    "#1= if the event was the user watching a lecture.\n",
    "cum = train_df.groupby('user_id')['content_type_id'].agg(['cumsum', 'cumcount'])\n",
    "cum['cumcount']=cum['cumcount']+1\n",
    "train_df['user_interaction_count'] = cum['cumcount'] \n",
    "train_df['user_interaction_timestamp_mean'] = train_df['timestamp']/cum['cumcount'] \n",
    "train_df['user_lecture_sum'] = cum['cumsum'] \n",
    "train_df['user_lecture_lv'] = cum['cumsum'] / cum['cumcount']\n",
    "\n",
    "\n",
    "train_df.user_lecture_lv=train_df.user_lecture_lv.astype('float16')\n",
    "train_df.user_lecture_sum=train_df.user_lecture_sum.astype('int16')\n",
    "train_df.user_interaction_count=train_df.user_interaction_count.astype('int16')\n",
    "train_df['user_interaction_timestamp_mean']=train_df['user_interaction_timestamp_mean']/(1000*3600)\n",
    "train_df.user_interaction_timestamp_mean=train_df.user_interaction_timestamp_mean.astype('float32')\n"
   ]
  },
  {
   "cell_type": "code",
   "execution_count": 18,
   "metadata": {
    "execution": {
     "iopub.execute_input": "2021-01-07T13:35:01.495434Z",
     "iopub.status.busy": "2021-01-07T13:35:01.494437Z",
     "iopub.status.idle": "2021-01-07T13:35:01.497568Z",
     "shell.execute_reply": "2021-01-07T13:35:01.497018Z"
    },
    "papermill": {
     "duration": 0.074845,
     "end_time": "2021-01-07T13:35:01.497689",
     "exception": false,
     "start_time": "2021-01-07T13:35:01.422844",
     "status": "completed"
    },
    "tags": []
   },
   "outputs": [],
   "source": [
    "#pd.options.display.max_rows = 200"
   ]
  },
  {
   "cell_type": "code",
   "execution_count": 19,
   "metadata": {
    "execution": {
     "iopub.execute_input": "2021-01-07T13:35:01.637812Z",
     "iopub.status.busy": "2021-01-07T13:35:01.637179Z",
     "iopub.status.idle": "2021-01-07T13:35:01.763455Z",
     "shell.execute_reply": "2021-01-07T13:35:01.764032Z"
    },
    "papermill": {
     "duration": 0.198488,
     "end_time": "2021-01-07T13:35:01.764199",
     "exception": false,
     "start_time": "2021-01-07T13:35:01.565711",
     "status": "completed"
    },
    "tags": []
   },
   "outputs": [
    {
     "data": {
      "text/plain": [
       "97"
      ]
     },
     "execution_count": 19,
     "metadata": {},
     "output_type": "execute_result"
    }
   ],
   "source": [
    "del cum\n",
    "gc.collect()"
   ]
  },
  {
   "cell_type": "code",
   "execution_count": 20,
   "metadata": {
    "execution": {
     "iopub.execute_input": "2021-01-07T13:35:01.908483Z",
     "iopub.status.busy": "2021-01-07T13:35:01.907554Z",
     "iopub.status.idle": "2021-01-07T13:35:01.912292Z",
     "shell.execute_reply": "2021-01-07T13:35:01.913257Z"
    },
    "papermill": {
     "duration": 0.081444,
     "end_time": "2021-01-07T13:35:01.913499",
     "exception": false,
     "start_time": "2021-01-07T13:35:01.832055",
     "status": "completed"
    },
    "tags": []
   },
   "outputs": [
    {
     "name": "stdout",
     "output_type": "stream",
     "text": [
      "start handle train_df...\n"
     ]
    }
   ],
   "source": [
    "print('start handle train_df...')"
   ]
  },
  {
   "cell_type": "code",
   "execution_count": 21,
   "metadata": {
    "execution": {
     "iopub.execute_input": "2021-01-07T13:35:02.064755Z",
     "iopub.status.busy": "2021-01-07T13:35:02.064056Z",
     "iopub.status.idle": "2021-01-07T13:35:33.378449Z",
     "shell.execute_reply": "2021-01-07T13:35:33.378951Z"
    },
    "papermill": {
     "duration": 31.386767,
     "end_time": "2021-01-07T13:35:33.379145",
     "exception": false,
     "start_time": "2021-01-07T13:35:01.992378",
     "status": "completed"
    },
    "tags": []
   },
   "outputs": [],
   "source": [
    "train_df['prior_question_had_explanation'].fillna(False, inplace=True)\n",
    "train_df = train_df.astype(data_types_dict)\n",
    "train_df = train_df[train_df[target] != -1].reset_index(drop=True)"
   ]
  },
  {
   "cell_type": "code",
   "execution_count": 22,
   "metadata": {
    "execution": {
     "iopub.execute_input": "2021-01-07T13:35:33.520056Z",
     "iopub.status.busy": "2021-01-07T13:35:33.519428Z",
     "iopub.status.idle": "2021-01-07T13:35:33.524632Z",
     "shell.execute_reply": "2021-01-07T13:35:33.523975Z"
    },
    "papermill": {
     "duration": 0.077475,
     "end_time": "2021-01-07T13:35:33.524745",
     "exception": false,
     "start_time": "2021-01-07T13:35:33.447270",
     "status": "completed"
    },
    "tags": []
   },
   "outputs": [],
   "source": [
    "# train_df['content_id1'] = train_df.groupby('user_id')['content_id'].shift()"
   ]
  },
  {
   "cell_type": "code",
   "execution_count": 23,
   "metadata": {
    "execution": {
     "iopub.execute_input": "2021-01-07T13:35:33.665276Z",
     "iopub.status.busy": "2021-01-07T13:35:33.664619Z",
     "iopub.status.idle": "2021-01-07T13:35:41.044456Z",
     "shell.execute_reply": "2021-01-07T13:35:41.044998Z"
    },
    "papermill": {
     "duration": 7.452818,
     "end_time": "2021-01-07T13:35:41.045163",
     "exception": false,
     "start_time": "2021-01-07T13:35:33.592345",
     "status": "completed"
    },
    "tags": []
   },
   "outputs": [],
   "source": [
    "content_explation_agg=train_df[[\"content_id\",\"prior_question_had_explanation\",target]].groupby([\"content_id\",\"prior_question_had_explanation\"])[target].agg(['mean'])"
   ]
  },
  {
   "cell_type": "code",
   "execution_count": 24,
   "metadata": {
    "execution": {
     "iopub.execute_input": "2021-01-07T13:35:41.187934Z",
     "iopub.status.busy": "2021-01-07T13:35:41.187212Z",
     "iopub.status.idle": "2021-01-07T13:35:41.196636Z",
     "shell.execute_reply": "2021-01-07T13:35:41.196042Z"
    },
    "papermill": {
     "duration": 0.081824,
     "end_time": "2021-01-07T13:35:41.196757",
     "exception": false,
     "start_time": "2021-01-07T13:35:41.114933",
     "status": "completed"
    },
    "tags": []
   },
   "outputs": [
    {
     "data": {
      "text/plain": [
       "mean    float64\n",
       "dtype: object"
      ]
     },
     "execution_count": 24,
     "metadata": {},
     "output_type": "execute_result"
    }
   ],
   "source": [
    "content_explation_agg.dtypes"
   ]
  },
  {
   "cell_type": "code",
   "execution_count": 25,
   "metadata": {
    "execution": {
     "iopub.execute_input": "2021-01-07T13:35:41.340746Z",
     "iopub.status.busy": "2021-01-07T13:35:41.338317Z",
     "iopub.status.idle": "2021-01-07T13:35:41.364803Z",
     "shell.execute_reply": "2021-01-07T13:35:41.364215Z"
    },
    "papermill": {
     "duration": 0.099027,
     "end_time": "2021-01-07T13:35:41.364936",
     "exception": false,
     "start_time": "2021-01-07T13:35:41.265909",
     "status": "completed"
    },
    "tags": []
   },
   "outputs": [],
   "source": [
    "content_explation_agg=content_explation_agg.unstack()\n",
    "\n",
    "content_explation_agg=content_explation_agg.reset_index()\n",
    "content_explation_agg.columns = ['content_id', 'content_explation_false_mean','content_explation_true_mean']"
   ]
  },
  {
   "cell_type": "code",
   "execution_count": 26,
   "metadata": {
    "execution": {
     "iopub.execute_input": "2021-01-07T13:35:41.510899Z",
     "iopub.status.busy": "2021-01-07T13:35:41.510220Z",
     "iopub.status.idle": "2021-01-07T13:35:41.515197Z",
     "shell.execute_reply": "2021-01-07T13:35:41.514554Z"
    },
    "papermill": {
     "duration": 0.081002,
     "end_time": "2021-01-07T13:35:41.515345",
     "exception": false,
     "start_time": "2021-01-07T13:35:41.434343",
     "status": "completed"
    },
    "tags": []
   },
   "outputs": [],
   "source": [
    "content_explation_agg.content_id=content_explation_agg.content_id.astype('int16')\n",
    "content_explation_agg.content_explation_false_mean=content_explation_agg.content_explation_false_mean.astype('float16')\n",
    "content_explation_agg.content_explation_true_mean=content_explation_agg.content_explation_true_mean.astype('float16')"
   ]
  },
  {
   "cell_type": "code",
   "execution_count": 27,
   "metadata": {
    "execution": {
     "iopub.execute_input": "2021-01-07T13:35:41.659774Z",
     "iopub.status.busy": "2021-01-07T13:35:41.659018Z",
     "iopub.status.idle": "2021-01-07T13:35:41.662415Z",
     "shell.execute_reply": "2021-01-07T13:35:41.661756Z"
    },
    "papermill": {
     "duration": 0.078569,
     "end_time": "2021-01-07T13:35:41.662536",
     "exception": false,
     "start_time": "2021-01-07T13:35:41.583967",
     "status": "completed"
    },
    "tags": []
   },
   "outputs": [],
   "source": [
    "# del train_df['content_id1']"
   ]
  },
  {
   "cell_type": "code",
   "execution_count": 28,
   "metadata": {
    "execution": {
     "iopub.execute_input": "2021-01-07T13:35:41.807032Z",
     "iopub.status.busy": "2021-01-07T13:35:41.806217Z",
     "iopub.status.idle": "2021-01-07T13:35:41.811606Z",
     "shell.execute_reply": "2021-01-07T13:35:41.810946Z"
    },
    "papermill": {
     "duration": 0.07899,
     "end_time": "2021-01-07T13:35:41.811720",
     "exception": false,
     "start_time": "2021-01-07T13:35:41.732730",
     "status": "completed"
    },
    "tags": []
   },
   "outputs": [
    {
     "name": "stdout",
     "output_type": "stream",
     "text": [
      "start handle attempt_no...\n"
     ]
    }
   ],
   "source": [
    "print('start handle attempt_no...')"
   ]
  },
  {
   "cell_type": "code",
   "execution_count": 29,
   "metadata": {
    "execution": {
     "iopub.execute_input": "2021-01-07T13:35:41.963637Z",
     "iopub.status.busy": "2021-01-07T13:35:41.962750Z",
     "iopub.status.idle": "2021-01-07T13:37:44.886707Z",
     "shell.execute_reply": "2021-01-07T13:37:44.885875Z"
    },
    "papermill": {
     "duration": 123.005542,
     "end_time": "2021-01-07T13:37:44.886945",
     "exception": false,
     "start_time": "2021-01-07T13:35:41.881403",
     "status": "completed"
    },
    "tags": []
   },
   "outputs": [],
   "source": [
    "\n",
    "train_df[\"attempt_no\"] = 1\n",
    "train_df.attempt_no=train_df.attempt_no.astype('int8')\n",
    "#\n",
    "attempt_no_agg=train_df.groupby([\"user_id\",\"content_id\"])[\"attempt_no\"].agg(['sum']).astype('int8')\n",
    "#attempt_no_agg=attempt_no_agg.astype('int8')\n",
    "train_df[\"attempt_no\"] = train_df[[\"user_id\",\"content_id\",'attempt_no']].groupby([\"user_id\",\"content_id\"])[\"attempt_no\"].cumsum()"
   ]
  },
  {
   "cell_type": "code",
   "execution_count": 30,
   "metadata": {
    "execution": {
     "iopub.execute_input": "2021-01-07T13:37:45.037798Z",
     "iopub.status.busy": "2021-01-07T13:37:45.037106Z",
     "iopub.status.idle": "2021-01-07T13:37:45.533861Z",
     "shell.execute_reply": "2021-01-07T13:37:45.533013Z"
    },
    "papermill": {
     "duration": 0.574733,
     "end_time": "2021-01-07T13:37:45.534017",
     "exception": false,
     "start_time": "2021-01-07T13:37:44.959284",
     "status": "completed"
    },
    "tags": []
   },
   "outputs": [],
   "source": [
    "#attempt_no_agg=attempt_no_agg.reset_index()\n",
    "attempt_no_agg=attempt_no_agg[attempt_no_agg['sum'] >1]"
   ]
  },
  {
   "cell_type": "code",
   "execution_count": 31,
   "metadata": {
    "execution": {
     "iopub.execute_input": "2021-01-07T13:37:45.680492Z",
     "iopub.status.busy": "2021-01-07T13:37:45.679391Z",
     "iopub.status.idle": "2021-01-07T13:37:46.014926Z",
     "shell.execute_reply": "2021-01-07T13:37:46.014301Z"
    },
    "papermill": {
     "duration": 0.410428,
     "end_time": "2021-01-07T13:37:46.015069",
     "exception": false,
     "start_time": "2021-01-07T13:37:45.604641",
     "status": "completed"
    },
    "tags": []
   },
   "outputs": [
    {
     "name": "stdout",
     "output_type": "stream",
     "text": [
      "start handle timestamp...\n"
     ]
    }
   ],
   "source": [
    "print('start handle timestamp...')\n",
    "prior_question_elapsed_time_mean=train_df['prior_question_elapsed_time'].mean()\n",
    "train_df['prior_question_elapsed_time'].fillna(prior_question_elapsed_time_mean, inplace=True)"
   ]
  },
  {
   "cell_type": "code",
   "execution_count": 32,
   "metadata": {
    "execution": {
     "iopub.execute_input": "2021-01-07T13:37:46.614859Z",
     "iopub.status.busy": "2021-01-07T13:37:46.613531Z",
     "iopub.status.idle": "2021-01-07T13:37:49.612311Z",
     "shell.execute_reply": "2021-01-07T13:37:49.612791Z"
    },
    "papermill": {
     "duration": 3.45415,
     "end_time": "2021-01-07T13:37:49.612965",
     "exception": false,
     "start_time": "2021-01-07T13:37:46.158815",
     "status": "completed"
    },
    "tags": []
   },
   "outputs": [],
   "source": [
    "max_timestamp_u = train_df[['user_id','timestamp']].groupby(['user_id']).agg(['max']).reset_index()\n",
    "max_timestamp_u.columns = ['user_id', 'max_time_stamp']\n",
    "max_timestamp_u.user_id=max_timestamp_u.user_id.astype('int32')"
   ]
  },
  {
   "cell_type": "code",
   "execution_count": 33,
   "metadata": {
    "execution": {
     "iopub.execute_input": "2021-01-07T13:37:49.758117Z",
     "iopub.status.busy": "2021-01-07T13:37:49.757283Z",
     "iopub.status.idle": "2021-01-07T13:37:57.531160Z",
     "shell.execute_reply": "2021-01-07T13:37:57.530444Z"
    },
    "papermill": {
     "duration": 7.847274,
     "end_time": "2021-01-07T13:37:57.531307",
     "exception": false,
     "start_time": "2021-01-07T13:37:49.684033",
     "status": "completed"
    },
    "tags": []
   },
   "outputs": [],
   "source": [
    "\n",
    "train_df['lagtime'] = train_df.groupby('user_id')['timestamp'].shift()\n",
    "\n",
    "max_timestamp_u2 = train_df[['user_id','lagtime']].groupby(['user_id']).agg(['max']).reset_index()\n",
    "max_timestamp_u2.columns = ['user_id', 'max_time_stamp2']\n",
    "max_timestamp_u2.user_id=max_timestamp_u2.user_id.astype('int32')"
   ]
  },
  {
   "cell_type": "code",
   "execution_count": 34,
   "metadata": {
    "execution": {
     "iopub.execute_input": "2021-01-07T13:37:57.697722Z",
     "iopub.status.busy": "2021-01-07T13:37:57.696136Z",
     "iopub.status.idle": "2021-01-07T13:37:58.849685Z",
     "shell.execute_reply": "2021-01-07T13:37:58.849078Z"
    },
    "papermill": {
     "duration": 1.246369,
     "end_time": "2021-01-07T13:37:58.849822",
     "exception": false,
     "start_time": "2021-01-07T13:37:57.603453",
     "status": "completed"
    },
    "tags": []
   },
   "outputs": [],
   "source": [
    "train_df['lagtime']=train_df['timestamp']-train_df['lagtime']\n",
    "lagtime_mean=train_df['lagtime'].mean()\n",
    "train_df['lagtime'].fillna(lagtime_mean, inplace=True)"
   ]
  },
  {
   "cell_type": "code",
   "execution_count": 35,
   "metadata": {
    "execution": {
     "iopub.execute_input": "2021-01-07T13:37:59.008697Z",
     "iopub.status.busy": "2021-01-07T13:37:59.007548Z",
     "iopub.status.idle": "2021-01-07T13:38:00.277752Z",
     "shell.execute_reply": "2021-01-07T13:38:00.277081Z"
    },
    "papermill": {
     "duration": 1.355672,
     "end_time": "2021-01-07T13:38:00.277896",
     "exception": false,
     "start_time": "2021-01-07T13:37:58.922224",
     "status": "completed"
    },
    "tags": []
   },
   "outputs": [],
   "source": [
    "train_df['lagtime']=train_df['lagtime']/(1000*3600)\n",
    "train_df.lagtime=train_df.lagtime.astype('float32')"
   ]
  },
  {
   "cell_type": "code",
   "execution_count": 36,
   "metadata": {
    "execution": {
     "iopub.execute_input": "2021-01-07T13:38:00.429284Z",
     "iopub.status.busy": "2021-01-07T13:38:00.428543Z",
     "iopub.status.idle": "2021-01-07T13:38:00.431623Z",
     "shell.execute_reply": "2021-01-07T13:38:00.431076Z"
    },
    "papermill": {
     "duration": 0.08048,
     "end_time": "2021-01-07T13:38:00.431761",
     "exception": false,
     "start_time": "2021-01-07T13:38:00.351281",
     "status": "completed"
    },
    "tags": []
   },
   "outputs": [],
   "source": [
    "# lagtime_agg = train_df.groupby('user_id')['lagtime'].agg(['mean'])\n",
    "# train_df['lagtime_mean'] = train_df['user_id'].map(lagtime_agg['mean'])\n",
    "# train_df.lagtime_mean=train_df.lagtime_mean.astype('int32')\n",
    "# lagtime_agg=lagtime_agg.astype('int32')"
   ]
  },
  {
   "cell_type": "code",
   "execution_count": 37,
   "metadata": {
    "execution": {
     "iopub.execute_input": "2021-01-07T13:38:00.595401Z",
     "iopub.status.busy": "2021-01-07T13:38:00.593881Z",
     "iopub.status.idle": "2021-01-07T13:38:10.605986Z",
     "shell.execute_reply": "2021-01-07T13:38:10.605007Z"
    },
    "papermill": {
     "duration": 10.101567,
     "end_time": "2021-01-07T13:38:10.606149",
     "exception": false,
     "start_time": "2021-01-07T13:38:00.504582",
     "status": "completed"
    },
    "tags": []
   },
   "outputs": [],
   "source": [
    "\n",
    "train_df['lagtime2'] = train_df.groupby('user_id')['timestamp'].shift(2)\n",
    "\n",
    "max_timestamp_u3 = train_df[['user_id','lagtime2']].groupby(['user_id']).agg(['max']).reset_index()\n",
    "max_timestamp_u3.columns = ['user_id', 'max_time_stamp3']\n",
    "max_timestamp_u3.user_id=max_timestamp_u3.user_id.astype('int32')\n",
    "\n",
    "train_df['lagtime2']=train_df['timestamp']-train_df['lagtime2']\n",
    "lagtime_mean2=train_df['lagtime2'].mean()\n",
    "train_df['lagtime2'].fillna(lagtime_mean2, inplace=True)\n"
   ]
  },
  {
   "cell_type": "code",
   "execution_count": 38,
   "metadata": {
    "execution": {
     "iopub.execute_input": "2021-01-07T13:38:10.755030Z",
     "iopub.status.busy": "2021-01-07T13:38:10.754074Z",
     "iopub.status.idle": "2021-01-07T13:38:11.756959Z",
     "shell.execute_reply": "2021-01-07T13:38:11.757517Z"
    },
    "papermill": {
     "duration": 1.079349,
     "end_time": "2021-01-07T13:38:11.757709",
     "exception": false,
     "start_time": "2021-01-07T13:38:10.678360",
     "status": "completed"
    },
    "tags": []
   },
   "outputs": [],
   "source": [
    "train_df['lagtime2']=train_df['lagtime2']/(1000*3600)\n",
    "train_df.lagtime2=train_df.lagtime2.astype('float32')"
   ]
  },
  {
   "cell_type": "code",
   "execution_count": 39,
   "metadata": {
    "execution": {
     "iopub.execute_input": "2021-01-07T13:38:11.917296Z",
     "iopub.status.busy": "2021-01-07T13:38:11.916529Z",
     "iopub.status.idle": "2021-01-07T13:38:19.175380Z",
     "shell.execute_reply": "2021-01-07T13:38:19.174161Z"
    },
    "papermill": {
     "duration": 7.338815,
     "end_time": "2021-01-07T13:38:19.175527",
     "exception": false,
     "start_time": "2021-01-07T13:38:11.836712",
     "status": "completed"
    },
    "tags": []
   },
   "outputs": [],
   "source": [
    "\n",
    "train_df['lagtime3'] = train_df.groupby('user_id')['timestamp'].shift(3)\n",
    "\n",
    "train_df['lagtime3']=train_df['timestamp']-train_df['lagtime3']\n",
    "lagtime_mean3=train_df['lagtime3'].mean()\n",
    "train_df['lagtime3'].fillna(lagtime_mean3, inplace=True)\n",
    "train_df['lagtime3']=train_df['lagtime3']/(1000*3600)\n",
    "train_df.lagtime3=train_df.lagtime3.astype('float32')"
   ]
  },
  {
   "cell_type": "code",
   "execution_count": 40,
   "metadata": {
    "execution": {
     "iopub.execute_input": "2021-01-07T13:38:19.323688Z",
     "iopub.status.busy": "2021-01-07T13:38:19.322853Z",
     "iopub.status.idle": "2021-01-07T13:38:19.326648Z",
     "shell.execute_reply": "2021-01-07T13:38:19.327170Z"
    },
    "papermill": {
     "duration": 0.08039,
     "end_time": "2021-01-07T13:38:19.327328",
     "exception": false,
     "start_time": "2021-01-07T13:38:19.246938",
     "status": "completed"
    },
    "tags": []
   },
   "outputs": [],
   "source": [
    "# lagtime_agg2 = train_df.groupby('user_id')['lagtime2'].agg(['mean'])\n",
    "# train_df['lagtime_mean2'] = train_df['user_id'].map(lagtime_agg2['mean'])\n",
    "# train_df.lagtime_mean2=train_df.lagtime_mean2.astype('int32')\n",
    "# lagtime_agg2=lagtime_agg2.astype('int32')"
   ]
  },
  {
   "cell_type": "code",
   "execution_count": 41,
   "metadata": {
    "execution": {
     "iopub.execute_input": "2021-01-07T13:38:19.484930Z",
     "iopub.status.busy": "2021-01-07T13:38:19.483775Z",
     "iopub.status.idle": "2021-01-07T13:38:20.894425Z",
     "shell.execute_reply": "2021-01-07T13:38:20.893851Z"
    },
    "papermill": {
     "duration": 1.495292,
     "end_time": "2021-01-07T13:38:20.894562",
     "exception": false,
     "start_time": "2021-01-07T13:38:19.399270",
     "status": "completed"
    },
    "tags": []
   },
   "outputs": [],
   "source": [
    "train_df['timestamp']=train_df['timestamp']/(1000*3600)\n",
    "#\n",
    "train_df.timestamp=train_df.timestamp.astype('float16')"
   ]
  },
  {
   "cell_type": "code",
   "execution_count": 42,
   "metadata": {
    "execution": {
     "iopub.execute_input": "2021-01-07T13:38:21.051864Z",
     "iopub.status.busy": "2021-01-07T13:38:21.049877Z",
     "iopub.status.idle": "2021-01-07T13:38:30.136028Z",
     "shell.execute_reply": "2021-01-07T13:38:30.135360Z"
    },
    "papermill": {
     "duration": 9.167129,
     "end_time": "2021-01-07T13:38:30.136170",
     "exception": false,
     "start_time": "2021-01-07T13:38:20.969041",
     "status": "completed"
    },
    "tags": []
   },
   "outputs": [],
   "source": [
    "user_prior_question_elapsed_time = train_df[['user_id','prior_question_elapsed_time']].groupby(['user_id']).tail(1)\n",
    "user_prior_question_elapsed_time.columns = ['user_id', 'prior_question_elapsed_time']"
   ]
  },
  {
   "cell_type": "code",
   "execution_count": 43,
   "metadata": {
    "execution": {
     "iopub.execute_input": "2021-01-07T13:38:30.287733Z",
     "iopub.status.busy": "2021-01-07T13:38:30.286420Z",
     "iopub.status.idle": "2021-01-07T13:38:34.727603Z",
     "shell.execute_reply": "2021-01-07T13:38:34.726949Z"
    },
    "papermill": {
     "duration": 4.51962,
     "end_time": "2021-01-07T13:38:34.727735",
     "exception": false,
     "start_time": "2021-01-07T13:38:30.208115",
     "status": "completed"
    },
    "tags": []
   },
   "outputs": [],
   "source": [
    "\n",
    "train_df['delta_prior_question_elapsed_time'] = train_df.groupby('user_id')['prior_question_elapsed_time'].shift()\n",
    "train_df['delta_prior_question_elapsed_time']=train_df['prior_question_elapsed_time']-train_df['delta_prior_question_elapsed_time']"
   ]
  },
  {
   "cell_type": "code",
   "execution_count": 44,
   "metadata": {
    "execution": {
     "iopub.execute_input": "2021-01-07T13:38:34.881022Z",
     "iopub.status.busy": "2021-01-07T13:38:34.880316Z",
     "iopub.status.idle": "2021-01-07T13:38:35.527732Z",
     "shell.execute_reply": "2021-01-07T13:38:35.527029Z"
    },
    "papermill": {
     "duration": 0.726627,
     "end_time": "2021-01-07T13:38:35.527881",
     "exception": false,
     "start_time": "2021-01-07T13:38:34.801254",
     "status": "completed"
    },
    "tags": []
   },
   "outputs": [],
   "source": [
    "delta_prior_question_elapsed_time_mean=train_df['delta_prior_question_elapsed_time'].mean()\n",
    "train_df['delta_prior_question_elapsed_time'].fillna(delta_prior_question_elapsed_time_mean, inplace=True)\n",
    "train_df.delta_prior_question_elapsed_time=train_df.delta_prior_question_elapsed_time.astype('int32')"
   ]
  },
  {
   "cell_type": "code",
   "execution_count": 45,
   "metadata": {
    "execution": {
     "iopub.execute_input": "2021-01-07T13:38:35.688283Z",
     "iopub.status.busy": "2021-01-07T13:38:35.687547Z",
     "iopub.status.idle": "2021-01-07T13:39:05.288729Z",
     "shell.execute_reply": "2021-01-07T13:39:05.287765Z"
    },
    "papermill": {
     "duration": 29.686578,
     "end_time": "2021-01-07T13:39:05.288893",
     "exception": false,
     "start_time": "2021-01-07T13:38:35.602315",
     "status": "completed"
    },
    "tags": []
   },
   "outputs": [],
   "source": [
    "\n",
    "train_df['lag'] = train_df.groupby('user_id')[target].shift()\n",
    "\n",
    "cum = train_df.groupby('user_id')['lag'].agg(['cumsum', 'cumcount'])\n",
    "##cum['cumcount']=cum['cumcount']+1\n",
    "user_agg = train_df.groupby('user_id')['lag'].agg(['sum', 'count']).astype('int16')\n",
    "cum['cumsum'].fillna(0, inplace=True)\n",
    "\n",
    "train_df['user_correctness'] = cum['cumsum'] / cum['cumcount']\n",
    "train_df['user_correct_count'] = cum['cumsum']\n",
    "train_df['user_uncorrect_count'] = cum['cumcount']-cum['cumsum']\n",
    "#train_df['user_answer_count'] = cum['cumcount']\n",
    "train_df.drop(columns=['lag'], inplace=True)\n",
    "train_df['user_correctness'].fillna(0.67, inplace=True)\n",
    "train_df.user_correctness=train_df.user_correctness.astype('float16')\n",
    "train_df.user_correct_count=train_df.user_correct_count.astype('int16')\n",
    "train_df.user_uncorrect_count=train_df.user_uncorrect_count.astype('int16')\n",
    "#train_df.user_answer_count=train_df.user_answer_count.astype('int16')\n"
   ]
  },
  {
   "cell_type": "code",
   "execution_count": 46,
   "metadata": {
    "execution": {
     "iopub.execute_input": "2021-01-07T13:39:05.587946Z",
     "iopub.status.busy": "2021-01-07T13:39:05.458871Z",
     "iopub.status.idle": "2021-01-07T13:39:05.593779Z",
     "shell.execute_reply": "2021-01-07T13:39:05.592941Z"
    },
    "papermill": {
     "duration": 0.222553,
     "end_time": "2021-01-07T13:39:05.593920",
     "exception": false,
     "start_time": "2021-01-07T13:39:05.371367",
     "status": "completed"
    },
    "tags": []
   },
   "outputs": [
    {
     "data": {
      "text/plain": [
       "20"
      ]
     },
     "execution_count": 46,
     "metadata": {},
     "output_type": "execute_result"
    }
   ],
   "source": [
    "del cum\n",
    "gc.collect()"
   ]
  },
  {
   "cell_type": "code",
   "execution_count": 47,
   "metadata": {
    "execution": {
     "iopub.execute_input": "2021-01-07T13:39:05.750484Z",
     "iopub.status.busy": "2021-01-07T13:39:05.749733Z",
     "iopub.status.idle": "2021-01-07T13:39:05.753418Z",
     "shell.execute_reply": "2021-01-07T13:39:05.752806Z"
    },
    "papermill": {
     "duration": 0.083937,
     "end_time": "2021-01-07T13:39:05.753551",
     "exception": false,
     "start_time": "2021-01-07T13:39:05.669614",
     "status": "completed"
    },
    "tags": []
   },
   "outputs": [],
   "source": [
    "# train_df['lag'] = train_df.groupby('user_id')[target].shift(2)\n",
    "# cum = train_df.groupby('user_id')['lag'].agg(['cumsum', 'cumcount'])\n",
    "# ##cum['cumcount']=cum['cumcount']+1\n",
    "# user_agg2 = train_df.groupby('user_id')['lag'].agg(['sum', 'count']).astype('int16')\n",
    "# cum['cumsum'].fillna(0, inplace=True)\n",
    "\n",
    "# train_df['user_correctness2'] = cum['cumsum'] / cum['cumcount']\n",
    "# train_df['user_correct_count2'] = cum['cumsum']\n",
    "# train_df['user_uncorrect_count2'] = cum['cumcount']-cum['cumsum']\n",
    "# #train_df['user_answer_count2'] = cum['cumcount']\n",
    "# train_df.drop(columns=['lag'], inplace=True)\n",
    "# train_df['user_correctness2'].fillna(0.67, inplace=True)\n",
    "# train_df.user_correctness2=train_df.user_correctness2.astype('float16')\n",
    "# train_df.user_correct_count2=train_df.user_correct_count2.astype('int16')\n",
    "# train_df.user_uncorrect_count2=train_df.user_uncorrect_count2.astype('int16')\n",
    "# #train_df.user_answer_count2=train_df.user_answer_count2.astype('int16')\n",
    "# del cum\n",
    "# gc.collect()"
   ]
  },
  {
   "cell_type": "code",
   "execution_count": 48,
   "metadata": {
    "execution": {
     "iopub.execute_input": "2021-01-07T13:39:05.909440Z",
     "iopub.status.busy": "2021-01-07T13:39:05.908709Z",
     "iopub.status.idle": "2021-01-07T13:39:09.614599Z",
     "shell.execute_reply": "2021-01-07T13:39:09.613989Z"
    },
    "papermill": {
     "duration": 3.788104,
     "end_time": "2021-01-07T13:39:09.614736",
     "exception": false,
     "start_time": "2021-01-07T13:39:05.826632",
     "status": "completed"
    },
    "tags": []
   },
   "outputs": [],
   "source": [
    "train_df.prior_question_had_explanation=train_df.prior_question_had_explanation.astype('int8')\n",
    "explanation_agg = train_df.groupby('user_id')['prior_question_had_explanation'].agg(['sum', 'count'])\n",
    "explanation_agg=explanation_agg.astype('int16')\n",
    "# explanation_agg.sum=explanation_agg.sum.astype('int16')\n",
    "# explanation_agg.count=explanation_agg.count.astype('int16')\n",
    "#explanation_agg.var=explanation_agg.var.astype('float16')"
   ]
  },
  {
   "cell_type": "code",
   "execution_count": 49,
   "metadata": {
    "execution": {
     "iopub.execute_input": "2021-01-07T13:39:09.774289Z",
     "iopub.status.busy": "2021-01-07T13:39:09.773263Z",
     "iopub.status.idle": "2021-01-07T13:39:24.160732Z",
     "shell.execute_reply": "2021-01-07T13:39:24.160059Z"
    },
    "papermill": {
     "duration": 14.472333,
     "end_time": "2021-01-07T13:39:24.160881",
     "exception": false,
     "start_time": "2021-01-07T13:39:09.688548",
     "status": "completed"
    },
    "tags": []
   },
   "outputs": [],
   "source": [
    "\n",
    "\n",
    "#train_df['lag'] = train_df.groupby('user_id')['prior_question_had_explanation'].shift()\n",
    "\n",
    "cum = train_df.groupby('user_id')['prior_question_had_explanation'].agg(['cumsum', 'cumcount'])\n",
    "cum['cumcount']=cum['cumcount']+1\n",
    "train_df['explanation_mean'] = cum['cumsum'] / cum['cumcount']\n",
    "train_df['explanation_true_count'] = cum['cumsum'] \n",
    "train_df['explanation_false_count'] =  cum['cumcount']-cum['cumsum']\n",
    "#train_df.drop(columns=['lag'], inplace=True)\n",
    "\n",
    "train_df.explanation_mean=train_df.explanation_mean.astype('float16')\n",
    "train_df.explanation_true_count=train_df.explanation_true_count.astype('int16')\n",
    "train_df.explanation_false_count=train_df.explanation_false_count.astype('int16')"
   ]
  },
  {
   "cell_type": "code",
   "execution_count": 50,
   "metadata": {
    "execution": {
     "iopub.execute_input": "2021-01-07T13:39:24.440669Z",
     "iopub.status.busy": "2021-01-07T13:39:24.439600Z",
     "iopub.status.idle": "2021-01-07T13:39:24.445018Z",
     "shell.execute_reply": "2021-01-07T13:39:24.444465Z"
    },
    "papermill": {
     "duration": 0.207726,
     "end_time": "2021-01-07T13:39:24.445184",
     "exception": false,
     "start_time": "2021-01-07T13:39:24.237458",
     "status": "completed"
    },
    "tags": []
   },
   "outputs": [
    {
     "data": {
      "text/plain": [
       "20"
      ]
     },
     "execution_count": 50,
     "metadata": {},
     "output_type": "execute_result"
    }
   ],
   "source": [
    "del cum\n",
    "gc.collect()"
   ]
  },
  {
   "cell_type": "code",
   "execution_count": 51,
   "metadata": {
    "execution": {
     "iopub.execute_input": "2021-01-07T13:39:24.604413Z",
     "iopub.status.busy": "2021-01-07T13:39:24.603239Z",
     "iopub.status.idle": "2021-01-07T13:39:34.245388Z",
     "shell.execute_reply": "2021-01-07T13:39:34.244781Z"
    },
    "papermill": {
     "duration": 9.72515,
     "end_time": "2021-01-07T13:39:34.245537",
     "exception": false,
     "start_time": "2021-01-07T13:39:24.520387",
     "status": "completed"
    },
    "tags": []
   },
   "outputs": [],
   "source": [
    "content_agg = train_df.groupby('content_id')[target].agg(['sum', 'count','var'])\n",
    "task_container_agg = train_df.groupby('task_container_id')[target].agg(['sum', 'count','var'])\n",
    "content_agg=content_agg.astype('float32')\n",
    "task_container_agg=task_container_agg.astype('float32')"
   ]
  },
  {
   "cell_type": "code",
   "execution_count": 52,
   "metadata": {
    "execution": {
     "iopub.execute_input": "2021-01-07T13:39:34.411392Z",
     "iopub.status.busy": "2021-01-07T13:39:34.409503Z",
     "iopub.status.idle": "2021-01-07T13:39:41.100864Z",
     "shell.execute_reply": "2021-01-07T13:39:41.100236Z"
    },
    "papermill": {
     "duration": 6.780637,
     "end_time": "2021-01-07T13:39:41.101002",
     "exception": false,
     "start_time": "2021-01-07T13:39:34.320365",
     "status": "completed"
    },
    "tags": []
   },
   "outputs": [],
   "source": [
    "#\n",
    "train_df['task_container_uncor_count'] = train_df['task_container_id'].map(task_container_agg['count']-task_container_agg['sum']).astype('int32')\n",
    "train_df['task_container_cor_count'] = train_df['task_container_id'].map(task_container_agg['sum']).astype('int32')\n",
    "train_df['task_container_std'] = train_df['task_container_id'].map(task_container_agg['var']).astype('float16')\n",
    "train_df['task_container_correctness'] = train_df['task_container_id'].map(task_container_agg['sum'] / task_container_agg['count'])\n",
    "train_df.task_container_correctness=train_df.task_container_correctness.astype('float16')"
   ]
  },
  {
   "cell_type": "code",
   "execution_count": 53,
   "metadata": {
    "execution": {
     "iopub.execute_input": "2021-01-07T13:39:41.257033Z",
     "iopub.status.busy": "2021-01-07T13:39:41.255585Z",
     "iopub.status.idle": "2021-01-07T13:39:45.897270Z",
     "shell.execute_reply": "2021-01-07T13:39:45.897849Z"
    },
    "papermill": {
     "duration": 4.723016,
     "end_time": "2021-01-07T13:39:45.898044",
     "exception": false,
     "start_time": "2021-01-07T13:39:41.175028",
     "status": "completed"
    },
    "tags": []
   },
   "outputs": [],
   "source": [
    "content_elapsed_time_agg=train_df.groupby('content_id')['prior_question_elapsed_time'].agg(['mean'])\n",
    "content_had_explanation_agg=train_df.groupby('content_id')['prior_question_had_explanation'].agg(['mean'])"
   ]
  },
  {
   "cell_type": "code",
   "execution_count": 54,
   "metadata": {
    "execution": {
     "iopub.execute_input": "2021-01-07T13:39:46.060391Z",
     "iopub.status.busy": "2021-01-07T13:39:46.059176Z",
     "iopub.status.idle": "2021-01-07T13:39:46.064899Z",
     "shell.execute_reply": "2021-01-07T13:39:46.064286Z"
    },
    "papermill": {
     "duration": 0.091804,
     "end_time": "2021-01-07T13:39:46.065040",
     "exception": false,
     "start_time": "2021-01-07T13:39:45.973236",
     "status": "completed"
    },
    "tags": []
   },
   "outputs": [
    {
     "data": {
      "text/plain": [
       "timestamp                            float16\n",
       "user_id                                int32\n",
       "content_id                             int16\n",
       "content_type_id                         int8\n",
       "task_container_id                      int16\n",
       "answered_correctly                      int8\n",
       "prior_question_elapsed_time          float32\n",
       "prior_question_had_explanation          int8\n",
       "user_interaction_count                 int16\n",
       "user_interaction_timestamp_mean      float32\n",
       "user_lecture_sum                       int16\n",
       "user_lecture_lv                      float16\n",
       "attempt_no                              int8\n",
       "lagtime                              float32\n",
       "lagtime2                             float32\n",
       "lagtime3                             float32\n",
       "delta_prior_question_elapsed_time      int32\n",
       "user_correctness                     float16\n",
       "user_correct_count                     int16\n",
       "user_uncorrect_count                   int16\n",
       "explanation_mean                     float16\n",
       "explanation_true_count                 int16\n",
       "explanation_false_count                int16\n",
       "task_container_uncor_count             int32\n",
       "task_container_cor_count               int32\n",
       "task_container_std                   float16\n",
       "task_container_correctness           float16\n",
       "dtype: object"
      ]
     },
     "execution_count": 54,
     "metadata": {},
     "output_type": "execute_result"
    }
   ],
   "source": [
    "train_df.dtypes"
   ]
  },
  {
   "cell_type": "code",
   "execution_count": 55,
   "metadata": {
    "execution": {
     "iopub.execute_input": "2021-01-07T13:39:46.233111Z",
     "iopub.status.busy": "2021-01-07T13:39:46.228361Z",
     "iopub.status.idle": "2021-01-07T13:39:46.266208Z",
     "shell.execute_reply": "2021-01-07T13:39:46.265566Z"
    },
    "papermill": {
     "duration": 0.125201,
     "end_time": "2021-01-07T13:39:46.266362",
     "exception": false,
     "start_time": "2021-01-07T13:39:46.141161",
     "status": "completed"
    },
    "tags": []
   },
   "outputs": [
    {
     "data": {
      "text/html": [
       "<div>\n",
       "<style scoped>\n",
       "    .dataframe tbody tr th:only-of-type {\n",
       "        vertical-align: middle;\n",
       "    }\n",
       "\n",
       "    .dataframe tbody tr th {\n",
       "        vertical-align: top;\n",
       "    }\n",
       "\n",
       "    .dataframe thead th {\n",
       "        text-align: right;\n",
       "    }\n",
       "</style>\n",
       "<table border=\"1\" class=\"dataframe\">\n",
       "  <thead>\n",
       "    <tr style=\"text-align: right;\">\n",
       "      <th></th>\n",
       "      <th>timestamp</th>\n",
       "      <th>user_id</th>\n",
       "      <th>content_id</th>\n",
       "      <th>content_type_id</th>\n",
       "      <th>task_container_id</th>\n",
       "      <th>answered_correctly</th>\n",
       "      <th>prior_question_elapsed_time</th>\n",
       "      <th>prior_question_had_explanation</th>\n",
       "      <th>user_interaction_count</th>\n",
       "      <th>user_interaction_timestamp_mean</th>\n",
       "      <th>...</th>\n",
       "      <th>user_correctness</th>\n",
       "      <th>user_correct_count</th>\n",
       "      <th>user_uncorrect_count</th>\n",
       "      <th>explanation_mean</th>\n",
       "      <th>explanation_true_count</th>\n",
       "      <th>explanation_false_count</th>\n",
       "      <th>task_container_uncor_count</th>\n",
       "      <th>task_container_cor_count</th>\n",
       "      <th>task_container_std</th>\n",
       "      <th>task_container_correctness</th>\n",
       "    </tr>\n",
       "  </thead>\n",
       "  <tbody>\n",
       "    <tr>\n",
       "      <th>0</th>\n",
       "      <td>0.000000</td>\n",
       "      <td>115</td>\n",
       "      <td>5692</td>\n",
       "      <td>0</td>\n",
       "      <td>1</td>\n",
       "      <td>1</td>\n",
       "      <td>13005.081055</td>\n",
       "      <td>0</td>\n",
       "      <td>1</td>\n",
       "      <td>0.000000</td>\n",
       "      <td>...</td>\n",
       "      <td>0.669922</td>\n",
       "      <td>0</td>\n",
       "      <td>0</td>\n",
       "      <td>0.0</td>\n",
       "      <td>0</td>\n",
       "      <td>1</td>\n",
       "      <td>187175</td>\n",
       "      <td>208704</td>\n",
       "      <td>0.249268</td>\n",
       "      <td>0.527344</td>\n",
       "    </tr>\n",
       "    <tr>\n",
       "      <th>1</th>\n",
       "      <td>0.015823</td>\n",
       "      <td>115</td>\n",
       "      <td>5716</td>\n",
       "      <td>0</td>\n",
       "      <td>2</td>\n",
       "      <td>1</td>\n",
       "      <td>37000.000000</td>\n",
       "      <td>0</td>\n",
       "      <td>2</td>\n",
       "      <td>0.007909</td>\n",
       "      <td>...</td>\n",
       "      <td>1.000000</td>\n",
       "      <td>1</td>\n",
       "      <td>0</td>\n",
       "      <td>0.0</td>\n",
       "      <td>0</td>\n",
       "      <td>2</td>\n",
       "      <td>223198</td>\n",
       "      <td>172342</td>\n",
       "      <td>0.245850</td>\n",
       "      <td>0.435791</td>\n",
       "    </tr>\n",
       "    <tr>\n",
       "      <th>2</th>\n",
       "      <td>0.032867</td>\n",
       "      <td>115</td>\n",
       "      <td>128</td>\n",
       "      <td>0</td>\n",
       "      <td>0</td>\n",
       "      <td>1</td>\n",
       "      <td>55000.000000</td>\n",
       "      <td>0</td>\n",
       "      <td>3</td>\n",
       "      <td>0.010960</td>\n",
       "      <td>...</td>\n",
       "      <td>1.000000</td>\n",
       "      <td>2</td>\n",
       "      <td>0</td>\n",
       "      <td>0.0</td>\n",
       "      <td>0</td>\n",
       "      <td>3</td>\n",
       "      <td>126682</td>\n",
       "      <td>269233</td>\n",
       "      <td>0.217651</td>\n",
       "      <td>0.680176</td>\n",
       "    </tr>\n",
       "    <tr>\n",
       "      <th>3</th>\n",
       "      <td>0.036438</td>\n",
       "      <td>115</td>\n",
       "      <td>7860</td>\n",
       "      <td>0</td>\n",
       "      <td>3</td>\n",
       "      <td>1</td>\n",
       "      <td>19000.000000</td>\n",
       "      <td>0</td>\n",
       "      <td>4</td>\n",
       "      <td>0.009109</td>\n",
       "      <td>...</td>\n",
       "      <td>1.000000</td>\n",
       "      <td>3</td>\n",
       "      <td>0</td>\n",
       "      <td>0.0</td>\n",
       "      <td>0</td>\n",
       "      <td>4</td>\n",
       "      <td>180574</td>\n",
       "      <td>214721</td>\n",
       "      <td>0.248169</td>\n",
       "      <td>0.542969</td>\n",
       "    </tr>\n",
       "    <tr>\n",
       "      <th>4</th>\n",
       "      <td>0.038330</td>\n",
       "      <td>115</td>\n",
       "      <td>7922</td>\n",
       "      <td>0</td>\n",
       "      <td>4</td>\n",
       "      <td>1</td>\n",
       "      <td>11000.000000</td>\n",
       "      <td>0</td>\n",
       "      <td>5</td>\n",
       "      <td>0.007665</td>\n",
       "      <td>...</td>\n",
       "      <td>1.000000</td>\n",
       "      <td>4</td>\n",
       "      <td>0</td>\n",
       "      <td>0.0</td>\n",
       "      <td>0</td>\n",
       "      <td>5</td>\n",
       "      <td>361957</td>\n",
       "      <td>330079</td>\n",
       "      <td>0.249512</td>\n",
       "      <td>0.477051</td>\n",
       "    </tr>\n",
       "  </tbody>\n",
       "</table>\n",
       "<p>5 rows × 27 columns</p>\n",
       "</div>"
      ],
      "text/plain": [
       "   timestamp  user_id  content_id  content_type_id  task_container_id  \\\n",
       "0   0.000000      115        5692                0                  1   \n",
       "1   0.015823      115        5716                0                  2   \n",
       "2   0.032867      115         128                0                  0   \n",
       "3   0.036438      115        7860                0                  3   \n",
       "4   0.038330      115        7922                0                  4   \n",
       "\n",
       "   answered_correctly  prior_question_elapsed_time  \\\n",
       "0                   1                 13005.081055   \n",
       "1                   1                 37000.000000   \n",
       "2                   1                 55000.000000   \n",
       "3                   1                 19000.000000   \n",
       "4                   1                 11000.000000   \n",
       "\n",
       "   prior_question_had_explanation  user_interaction_count  \\\n",
       "0                               0                       1   \n",
       "1                               0                       2   \n",
       "2                               0                       3   \n",
       "3                               0                       4   \n",
       "4                               0                       5   \n",
       "\n",
       "   user_interaction_timestamp_mean  ...  user_correctness  user_correct_count  \\\n",
       "0                         0.000000  ...          0.669922                   0   \n",
       "1                         0.007909  ...          1.000000                   1   \n",
       "2                         0.010960  ...          1.000000                   2   \n",
       "3                         0.009109  ...          1.000000                   3   \n",
       "4                         0.007665  ...          1.000000                   4   \n",
       "\n",
       "   user_uncorrect_count  explanation_mean  explanation_true_count  \\\n",
       "0                     0               0.0                       0   \n",
       "1                     0               0.0                       0   \n",
       "2                     0               0.0                       0   \n",
       "3                     0               0.0                       0   \n",
       "4                     0               0.0                       0   \n",
       "\n",
       "   explanation_false_count  task_container_uncor_count  \\\n",
       "0                        1                      187175   \n",
       "1                        2                      223198   \n",
       "2                        3                      126682   \n",
       "3                        4                      180574   \n",
       "4                        5                      361957   \n",
       "\n",
       "   task_container_cor_count  task_container_std  task_container_correctness  \n",
       "0                    208704            0.249268                    0.527344  \n",
       "1                    172342            0.245850                    0.435791  \n",
       "2                    269233            0.217651                    0.680176  \n",
       "3                    214721            0.248169                    0.542969  \n",
       "4                    330079            0.249512                    0.477051  \n",
       "\n",
       "[5 rows x 27 columns]"
      ]
     },
     "execution_count": 55,
     "metadata": {},
     "output_type": "execute_result"
    }
   ],
   "source": [
    "train_df.head()"
   ]
  },
  {
   "cell_type": "code",
   "execution_count": 56,
   "metadata": {
    "execution": {
     "iopub.execute_input": "2021-01-07T13:39:46.428003Z",
     "iopub.status.busy": "2021-01-07T13:39:46.427290Z",
     "iopub.status.idle": "2021-01-07T13:39:46.430395Z",
     "shell.execute_reply": "2021-01-07T13:39:46.430934Z"
    },
    "papermill": {
     "duration": 0.085723,
     "end_time": "2021-01-07T13:39:46.431123",
     "exception": false,
     "start_time": "2021-01-07T13:39:46.345400",
     "status": "completed"
    },
    "tags": []
   },
   "outputs": [
    {
     "name": "stdout",
     "output_type": "stream",
     "text": [
      "start questions data...\n"
     ]
    }
   ],
   "source": [
    "print('start questions data...')"
   ]
  },
  {
   "cell_type": "code",
   "execution_count": 57,
   "metadata": {
    "execution": {
     "iopub.execute_input": "2021-01-07T13:39:46.591528Z",
     "iopub.status.busy": "2021-01-07T13:39:46.590789Z",
     "iopub.status.idle": "2021-01-07T13:39:46.615983Z",
     "shell.execute_reply": "2021-01-07T13:39:46.616658Z"
    },
    "papermill": {
     "duration": 0.107587,
     "end_time": "2021-01-07T13:39:46.616865",
     "exception": false,
     "start_time": "2021-01-07T13:39:46.509278",
     "status": "completed"
    },
    "tags": []
   },
   "outputs": [],
   "source": [
    "questions_df = pd.read_csv(\n",
    "    '../input/riiid-test-answer-prediction/questions.csv', \n",
    "    usecols=[0, 1,3,4],\n",
    "    dtype={'question_id': 'int16','bundle_id': 'int16', 'part': 'int8','tags': 'str'}\n",
    ")"
   ]
  },
  {
   "cell_type": "code",
   "execution_count": 58,
   "metadata": {
    "execution": {
     "iopub.execute_input": "2021-01-07T13:39:46.776897Z",
     "iopub.status.busy": "2021-01-07T13:39:46.776270Z",
     "iopub.status.idle": "2021-01-07T13:39:46.791223Z",
     "shell.execute_reply": "2021-01-07T13:39:46.790036Z"
    },
    "papermill": {
     "duration": 0.096067,
     "end_time": "2021-01-07T13:39:46.791365",
     "exception": false,
     "start_time": "2021-01-07T13:39:46.695298",
     "status": "completed"
    },
    "tags": []
   },
   "outputs": [],
   "source": [
    "bundle_agg = questions_df.groupby('bundle_id')['question_id'].agg(['count'])"
   ]
  },
  {
   "cell_type": "code",
   "execution_count": 59,
   "metadata": {
    "execution": {
     "iopub.execute_input": "2021-01-07T13:39:46.951843Z",
     "iopub.status.busy": "2021-01-07T13:39:46.951222Z",
     "iopub.status.idle": "2021-01-07T13:39:46.959220Z",
     "shell.execute_reply": "2021-01-07T13:39:46.957704Z"
    },
    "papermill": {
     "duration": 0.091311,
     "end_time": "2021-01-07T13:39:46.959348",
     "exception": false,
     "start_time": "2021-01-07T13:39:46.868037",
     "status": "completed"
    },
    "tags": []
   },
   "outputs": [],
   "source": [
    "questions_df['content_sub_bundle'] = questions_df['bundle_id'].map(bundle_agg['count']).astype('int8')"
   ]
  },
  {
   "cell_type": "code",
   "execution_count": 60,
   "metadata": {
    "execution": {
     "iopub.execute_input": "2021-01-07T13:39:47.120403Z",
     "iopub.status.busy": "2021-01-07T13:39:47.119738Z",
     "iopub.status.idle": "2021-01-07T13:39:47.123042Z",
     "shell.execute_reply": "2021-01-07T13:39:47.122402Z"
    },
    "papermill": {
     "duration": 0.087497,
     "end_time": "2021-01-07T13:39:47.123176",
     "exception": false,
     "start_time": "2021-01-07T13:39:47.035679",
     "status": "completed"
    },
    "tags": []
   },
   "outputs": [],
   "source": [
    "\n",
    "questions_df['tags'].fillna('188', inplace=True)"
   ]
  },
  {
   "cell_type": "code",
   "execution_count": 61,
   "metadata": {
    "execution": {
     "iopub.execute_input": "2021-01-07T13:39:47.284492Z",
     "iopub.status.busy": "2021-01-07T13:39:47.283793Z",
     "iopub.status.idle": "2021-01-07T13:39:47.287591Z",
     "shell.execute_reply": "2021-01-07T13:39:47.286916Z"
    },
    "papermill": {
     "duration": 0.088456,
     "end_time": "2021-01-07T13:39:47.287710",
     "exception": false,
     "start_time": "2021-01-07T13:39:47.199254",
     "status": "completed"
    },
    "tags": []
   },
   "outputs": [],
   "source": [
    "def gettags(tags,num):\n",
    "    tags_splits=tags.split(\" \")\n",
    "    result='' \n",
    "    for t in tags_splits:\n",
    "        x=int(t)\n",
    "        if(x<32*(num+1) and x>=32*num):#num \n",
    "            result=result+' '+t\n",
    "    return result"
   ]
  },
  {
   "cell_type": "code",
   "execution_count": 62,
   "metadata": {
    "execution": {
     "iopub.execute_input": "2021-01-07T13:39:47.465238Z",
     "iopub.status.busy": "2021-01-07T13:39:47.460223Z",
     "iopub.status.idle": "2021-01-07T13:39:47.734708Z",
     "shell.execute_reply": "2021-01-07T13:39:47.735256Z"
    },
    "papermill": {
     "duration": 0.371044,
     "end_time": "2021-01-07T13:39:47.735423",
     "exception": false,
     "start_time": "2021-01-07T13:39:47.364379",
     "status": "completed"
    },
    "tags": []
   },
   "outputs": [],
   "source": [
    "from sklearn.preprocessing import LabelEncoder\n",
    "for num in range(0,6):\n",
    "    questions_df[\"tags\"+str(num)] = questions_df[\"tags\"].apply(lambda row: gettags(row,num))\n",
    "    le = LabelEncoder()\n",
    "    le.fit(np.unique(questions_df['tags'+str(num)].values))\n",
    "    #questions_df[['tags'+str(num)]=\n",
    "    questions_df['tags'+str(num)]=questions_df[['tags'+str(num)]].apply(le.transform)"
   ]
  },
  {
   "cell_type": "code",
   "execution_count": 63,
   "metadata": {
    "execution": {
     "iopub.execute_input": "2021-01-07T13:39:47.902381Z",
     "iopub.status.busy": "2021-01-07T13:39:47.901511Z",
     "iopub.status.idle": "2021-01-07T13:39:47.905113Z",
     "shell.execute_reply": "2021-01-07T13:39:47.904528Z"
    },
    "papermill": {
     "duration": 0.092019,
     "end_time": "2021-01-07T13:39:47.905244",
     "exception": false,
     "start_time": "2021-01-07T13:39:47.813225",
     "status": "completed"
    },
    "tags": []
   },
   "outputs": [],
   "source": [
    "questions_df_dict = {   \n",
    "    'tags0': 'int8',\n",
    "    'tags1': 'int8',\n",
    "    'tags2': 'int8',\n",
    "    'tags3': 'int8',\n",
    "    'tags4': 'int8',\n",
    "    'tags5': 'int8',\n",
    "    #'tags6': 'int8',\n",
    "    #'tags7': 'int8'\n",
    "}\n",
    "questions_df = questions_df.astype(questions_df_dict)"
   ]
  },
  {
   "cell_type": "code",
   "execution_count": 64,
   "metadata": {
    "execution": {
     "iopub.execute_input": "2021-01-07T13:39:48.066506Z",
     "iopub.status.busy": "2021-01-07T13:39:48.065482Z",
     "iopub.status.idle": "2021-01-07T13:39:48.068084Z",
     "shell.execute_reply": "2021-01-07T13:39:48.068552Z"
    },
    "papermill": {
     "duration": 0.086245,
     "end_time": "2021-01-07T13:39:48.068696",
     "exception": false,
     "start_time": "2021-01-07T13:39:47.982451",
     "status": "completed"
    },
    "tags": []
   },
   "outputs": [],
   "source": [
    "questions_df.drop(columns=['tags'], inplace=True)"
   ]
  },
  {
   "cell_type": "code",
   "execution_count": 65,
   "metadata": {
    "execution": {
     "iopub.execute_input": "2021-01-07T13:39:48.226688Z",
     "iopub.status.busy": "2021-01-07T13:39:48.225651Z",
     "iopub.status.idle": "2021-01-07T13:39:48.235147Z",
     "shell.execute_reply": "2021-01-07T13:39:48.235627Z"
    },
    "papermill": {
     "duration": 0.090076,
     "end_time": "2021-01-07T13:39:48.235779",
     "exception": false,
     "start_time": "2021-01-07T13:39:48.145703",
     "status": "completed"
    },
    "tags": []
   },
   "outputs": [],
   "source": [
    "\n",
    "questions_df['part_bundle_id']=questions_df['part']*100000+questions_df['bundle_id']\n",
    "questions_df.part_bundle_id=questions_df.part_bundle_id.astype('int32')\n",
    "# tag = questions_df[\"tags\"].str.split(\" \", n = 10, expand = True)\n",
    "# tag.columns = ['tags1','tags2','tags3','tags4','tags5','tags6']\n",
    "# #\n",
    "\n",
    "# tag.fillna(0, inplace=True)\n",
    "# tag = tag.astype('int16')\n",
    "# questions_df =  pd.concat([questions_df,tag],axis=1).drop(['tags'],axis=1)"
   ]
  },
  {
   "cell_type": "code",
   "execution_count": 66,
   "metadata": {
    "execution": {
     "iopub.execute_input": "2021-01-07T13:39:48.398465Z",
     "iopub.status.busy": "2021-01-07T13:39:48.397492Z",
     "iopub.status.idle": "2021-01-07T13:39:48.401225Z",
     "shell.execute_reply": "2021-01-07T13:39:48.401696Z"
    },
    "papermill": {
     "duration": 0.085534,
     "end_time": "2021-01-07T13:39:48.401847",
     "exception": false,
     "start_time": "2021-01-07T13:39:48.316313",
     "status": "completed"
    },
    "tags": []
   },
   "outputs": [],
   "source": [
    "# questions_cmnts = pd.read_csv(\n",
    "#     '../input/2020-r3id-clustering-question-tags/question_cmnts.csv', \n",
    "#     usecols=[1,2],\n",
    "#     dtype={'question_id': 'int16','community': 'int8'}\n",
    "# )"
   ]
  },
  {
   "cell_type": "code",
   "execution_count": 67,
   "metadata": {
    "execution": {
     "iopub.execute_input": "2021-01-07T13:39:48.561707Z",
     "iopub.status.busy": "2021-01-07T13:39:48.560811Z",
     "iopub.status.idle": "2021-01-07T13:39:48.566429Z",
     "shell.execute_reply": "2021-01-07T13:39:48.565816Z"
    },
    "papermill": {
     "duration": 0.087424,
     "end_time": "2021-01-07T13:39:48.566554",
     "exception": false,
     "start_time": "2021-01-07T13:39:48.479130",
     "status": "completed"
    },
    "tags": []
   },
   "outputs": [],
   "source": [
    "# questions_df = pd.merge(questions_df, questions_cmnts, on='question_id', how='left',right_index=True)#"
   ]
  },
  {
   "cell_type": "code",
   "execution_count": 68,
   "metadata": {
    "execution": {
     "iopub.execute_input": "2021-01-07T13:39:48.729390Z",
     "iopub.status.busy": "2021-01-07T13:39:48.728383Z",
     "iopub.status.idle": "2021-01-07T13:39:48.732518Z",
     "shell.execute_reply": "2021-01-07T13:39:48.731869Z"
    },
    "papermill": {
     "duration": 0.087943,
     "end_time": "2021-01-07T13:39:48.732652",
     "exception": false,
     "start_time": "2021-01-07T13:39:48.644709",
     "status": "completed"
    },
    "tags": []
   },
   "outputs": [],
   "source": [
    "questions_df.rename(columns={'question_id':'content_id'}, inplace=True)"
   ]
  },
  {
   "cell_type": "code",
   "execution_count": 69,
   "metadata": {
    "execution": {
     "iopub.execute_input": "2021-01-07T13:39:48.899270Z",
     "iopub.status.busy": "2021-01-07T13:39:48.898208Z",
     "iopub.status.idle": "2021-01-07T13:39:48.908160Z",
     "shell.execute_reply": "2021-01-07T13:39:48.908690Z"
    },
    "papermill": {
     "duration": 0.096706,
     "end_time": "2021-01-07T13:39:48.908837",
     "exception": false,
     "start_time": "2021-01-07T13:39:48.812131",
     "status": "completed"
    },
    "tags": []
   },
   "outputs": [],
   "source": [
    "questions_df = pd.merge(questions_df, content_explation_agg, on='content_id', how='left',right_index=True)#\n",
    "# questions_df.content_explation_false_mean=questions_df.content_explation_false_mean.astype('float16')\n",
    "# questions_df.content_explation_true_mean=questions_df.content_explation_true_mean.astype('float16')"
   ]
  },
  {
   "cell_type": "code",
   "execution_count": 70,
   "metadata": {
    "execution": {
     "iopub.execute_input": "2021-01-07T13:39:49.068758Z",
     "iopub.status.busy": "2021-01-07T13:39:49.067745Z",
     "iopub.status.idle": "2021-01-07T13:39:49.071866Z",
     "shell.execute_reply": "2021-01-07T13:39:49.072382Z"
    },
    "papermill": {
     "duration": 0.085878,
     "end_time": "2021-01-07T13:39:49.072543",
     "exception": false,
     "start_time": "2021-01-07T13:39:48.986665",
     "status": "completed"
    },
    "tags": []
   },
   "outputs": [],
   "source": [
    "del content_explation_agg"
   ]
  },
  {
   "cell_type": "code",
   "execution_count": 71,
   "metadata": {
    "execution": {
     "iopub.execute_input": "2021-01-07T13:39:49.233158Z",
     "iopub.status.busy": "2021-01-07T13:39:49.232176Z",
     "iopub.status.idle": "2021-01-07T13:39:49.250974Z",
     "shell.execute_reply": "2021-01-07T13:39:49.251517Z"
    },
    "papermill": {
     "duration": 0.10139,
     "end_time": "2021-01-07T13:39:49.251682",
     "exception": false,
     "start_time": "2021-01-07T13:39:49.150292",
     "status": "completed"
    },
    "tags": []
   },
   "outputs": [],
   "source": [
    "questions_df['content_correctness'] = questions_df['content_id'].map(content_agg['sum'] / content_agg['count'])\n",
    "questions_df.content_correctness=questions_df.content_correctness.astype('float16')\n",
    "questions_df['content_correctness_std'] = questions_df['content_id'].map(content_agg['var'])\n",
    "questions_df.content_correctness_std=questions_df.content_correctness_std.astype('float16')\n",
    "questions_df['content_uncorrect_count'] = questions_df['content_id'].map(content_agg['count']-content_agg['sum']).astype('int32')\n",
    "questions_df['content_correct_count'] = questions_df['content_id'].map(content_agg['sum']).astype('int32')"
   ]
  },
  {
   "cell_type": "code",
   "execution_count": 72,
   "metadata": {
    "execution": {
     "iopub.execute_input": "2021-01-07T13:39:49.416045Z",
     "iopub.status.busy": "2021-01-07T13:39:49.415405Z",
     "iopub.status.idle": "2021-01-07T13:39:49.424777Z",
     "shell.execute_reply": "2021-01-07T13:39:49.424228Z"
    },
    "papermill": {
     "duration": 0.094709,
     "end_time": "2021-01-07T13:39:49.424917",
     "exception": false,
     "start_time": "2021-01-07T13:39:49.330208",
     "status": "completed"
    },
    "tags": []
   },
   "outputs": [],
   "source": [
    "questions_df['content_elapsed_time_mean'] = questions_df['content_id'].map(content_elapsed_time_agg['mean'])\n",
    "questions_df.content_elapsed_time_mean=questions_df.content_elapsed_time_mean.astype('float16')\n",
    "questions_df['content_had_explanation_mean'] = questions_df['content_id'].map(content_had_explanation_agg['mean'])\n",
    "questions_df.content_had_explanation_mean=questions_df.content_had_explanation_mean.astype('float16')"
   ]
  },
  {
   "cell_type": "code",
   "execution_count": 73,
   "metadata": {
    "execution": {
     "iopub.execute_input": "2021-01-07T13:39:49.704147Z",
     "iopub.status.busy": "2021-01-07T13:39:49.703332Z",
     "iopub.status.idle": "2021-01-07T13:39:49.709843Z",
     "shell.execute_reply": "2021-01-07T13:39:49.709048Z"
    },
    "papermill": {
     "duration": 0.206413,
     "end_time": "2021-01-07T13:39:49.709981",
     "exception": false,
     "start_time": "2021-01-07T13:39:49.503568",
     "status": "completed"
    },
    "tags": []
   },
   "outputs": [
    {
     "data": {
      "text/plain": [
       "233"
      ]
     },
     "execution_count": 73,
     "metadata": {},
     "output_type": "execute_result"
    }
   ],
   "source": [
    "del content_elapsed_time_agg\n",
    "del content_had_explanation_agg\n",
    "gc.collect()"
   ]
  },
  {
   "cell_type": "code",
   "execution_count": 74,
   "metadata": {
    "execution": {
     "iopub.execute_input": "2021-01-07T13:39:49.882678Z",
     "iopub.status.busy": "2021-01-07T13:39:49.881659Z",
     "iopub.status.idle": "2021-01-07T13:39:49.892373Z",
     "shell.execute_reply": "2021-01-07T13:39:49.891656Z"
    },
    "papermill": {
     "duration": 0.100659,
     "end_time": "2021-01-07T13:39:49.892503",
     "exception": false,
     "start_time": "2021-01-07T13:39:49.791844",
     "status": "completed"
    },
    "tags": []
   },
   "outputs": [],
   "source": [
    "part_agg = questions_df.groupby('part')['content_correctness'].agg(['mean', 'var'])\n",
    "questions_df['part_correctness_mean'] = questions_df['part'].map(part_agg['mean'])\n",
    "questions_df['part_correctness_std'] = questions_df['part'].map(part_agg['var'])\n",
    "questions_df.part_correctness_mean=questions_df.part_correctness_mean.astype('float16')\n",
    "questions_df.part_correctness_std=questions_df.part_correctness_std.astype('float16')"
   ]
  },
  {
   "cell_type": "code",
   "execution_count": 75,
   "metadata": {
    "execution": {
     "iopub.execute_input": "2021-01-07T13:39:50.061376Z",
     "iopub.status.busy": "2021-01-07T13:39:50.060339Z",
     "iopub.status.idle": "2021-01-07T13:39:50.073795Z",
     "shell.execute_reply": "2021-01-07T13:39:50.074430Z"
    },
    "papermill": {
     "duration": 0.102306,
     "end_time": "2021-01-07T13:39:50.074597",
     "exception": false,
     "start_time": "2021-01-07T13:39:49.972291",
     "status": "completed"
    },
    "tags": []
   },
   "outputs": [],
   "source": [
    "part_agg = questions_df.groupby('part')['content_uncorrect_count'].agg(['sum'])\n",
    "questions_df['part_uncor_count'] = questions_df['part'].map(part_agg['sum']).astype('int32')\n",
    "#\n",
    "part_agg = questions_df.groupby('part')['content_correct_count'].agg(['sum'])\n",
    "questions_df['part_cor_count'] = questions_df['part'].map(part_agg['sum']).astype('int32')"
   ]
  },
  {
   "cell_type": "code",
   "execution_count": 76,
   "metadata": {
    "execution": {
     "iopub.execute_input": "2021-01-07T13:39:50.241452Z",
     "iopub.status.busy": "2021-01-07T13:39:50.240373Z",
     "iopub.status.idle": "2021-01-07T13:39:50.252955Z",
     "shell.execute_reply": "2021-01-07T13:39:50.252261Z"
    },
    "papermill": {
     "duration": 0.098299,
     "end_time": "2021-01-07T13:39:50.253070",
     "exception": false,
     "start_time": "2021-01-07T13:39:50.154771",
     "status": "completed"
    },
    "tags": []
   },
   "outputs": [],
   "source": [
    "bundle_agg = questions_df.groupby('bundle_id')['content_correctness'].agg(['mean'])\n",
    "questions_df['bundle_correctness_mean'] = questions_df['bundle_id'].map(bundle_agg['mean'])\n",
    "questions_df.bundle_correctness_mean=questions_df.bundle_correctness_mean.astype('float16')\n",
    "\n",
    "# bundle_agg = questions_df.groupby('bundle_id')['content_uncorrect_count'].agg(['sum'])\n",
    "# questions_df['bundle_uncor_count'] = questions_df['bundle_id'].map(bundle_agg['sum']).astype('int32')\n",
    "# #\n",
    "# bundle_agg = questions_df.groupby('bundle_id')['content_correct_count'].agg(['sum'])\n",
    "# questions_df['bundle_cor_count'] = questions_df['bundle_id'].map(bundle_agg['sum']).astype('int32')"
   ]
  },
  {
   "cell_type": "code",
   "execution_count": 77,
   "metadata": {
    "execution": {
     "iopub.execute_input": "2021-01-07T13:39:50.420170Z",
     "iopub.status.busy": "2021-01-07T13:39:50.419489Z",
     "iopub.status.idle": "2021-01-07T13:39:50.423214Z",
     "shell.execute_reply": "2021-01-07T13:39:50.422680Z"
    },
    "papermill": {
     "duration": 0.088979,
     "end_time": "2021-01-07T13:39:50.423331",
     "exception": false,
     "start_time": "2021-01-07T13:39:50.334352",
     "status": "completed"
    },
    "tags": []
   },
   "outputs": [],
   "source": [
    "#questions_df.loc[questions_df['content_sub_bundle'] !=0, 'content_sub_bundle']=1 #修改列\"content_sub_bundle\"的值，推荐使用.loc"
   ]
  },
  {
   "cell_type": "code",
   "execution_count": 78,
   "metadata": {
    "execution": {
     "iopub.execute_input": "2021-01-07T13:39:50.587166Z",
     "iopub.status.busy": "2021-01-07T13:39:50.586507Z",
     "iopub.status.idle": "2021-01-07T13:39:50.588942Z",
     "shell.execute_reply": "2021-01-07T13:39:50.589504Z"
    },
    "papermill": {
     "duration": 0.087205,
     "end_time": "2021-01-07T13:39:50.589649",
     "exception": false,
     "start_time": "2021-01-07T13:39:50.502444",
     "status": "completed"
    },
    "tags": []
   },
   "outputs": [],
   "source": [
    "# tags1_agg = questions_df.groupby('tags0')['content_correctness'].agg(['mean', 'var'])\n",
    "# questions_df['tags0_correctness_mean'] = questions_df['tags0'].map(tags1_agg['mean'])\n",
    "# questions_df.tags0_correctness_mean=questions_df.tags0_correctness_mean.astype('float16')\n",
    "\n",
    "# tags1_agg = questions_df.groupby('tags1')['content_correctness'].agg(['mean', 'var'])\n",
    "# questions_df['tags1_correctness_mean'] = questions_df['tags1'].map(tags1_agg['mean'])\n",
    "# questions_df.tags1_correctness_mean=questions_df.tags1_correctness_mean.astype('float16')\n",
    "\n",
    "# tags1_agg = questions_df.groupby('tags2')['content_correctness'].agg(['mean', 'var'])\n",
    "# questions_df['tags2_correctness_mean'] = questions_df['tags2'].map(tags1_agg['mean'])\n",
    "# questions_df.tags2_correctness_mean=questions_df.tags2_correctness_mean.astype('float16')\n",
    "\n",
    "# tags1_agg = questions_df.groupby('tags4')['content_correctness'].agg(['mean', 'var'])\n",
    "# questions_df['tags4_correctness_mean'] = questions_df['tags4'].map(tags1_agg['mean'])\n",
    "# questions_df.tags4_correctness_mean=questions_df.tags4_correctness_mean.astype('float16')\n",
    "\n",
    "# questions_df['tags1_correctness_std'] = questions_df['tags1'].map(tags1_agg['var'])\n",
    "\n",
    "# questions_df.tags1_correctness_std=questions_df.tags1_correctness_std.astype('float16')\n",
    "# tags1_agg = questions_df.groupby('tags1')['content_uncorrect_count'].agg(['sum'])\n",
    "# questions_df['tags1_uncor_count'] = questions_df['tags1'].map(tags1_agg['sum']).astype('int32')\n",
    "# #\n",
    "# tags1_agg = questions_df.groupby('tags1')['content_correct_count'].agg(['sum'])\n",
    "# questions_df['tags1_cor_count'] = questions_df['tags1'].map(tags1_agg['sum']).astype('int32')"
   ]
  },
  {
   "cell_type": "code",
   "execution_count": 79,
   "metadata": {
    "execution": {
     "iopub.execute_input": "2021-01-07T13:39:50.752349Z",
     "iopub.status.busy": "2021-01-07T13:39:50.751649Z",
     "iopub.status.idle": "2021-01-07T13:39:50.759606Z",
     "shell.execute_reply": "2021-01-07T13:39:50.760217Z"
    },
    "papermill": {
     "duration": 0.091078,
     "end_time": "2021-01-07T13:39:50.760374",
     "exception": false,
     "start_time": "2021-01-07T13:39:50.669296",
     "status": "completed"
    },
    "tags": []
   },
   "outputs": [
    {
     "data": {
      "text/plain": [
       "content_id                        int16\n",
       "bundle_id                         int16\n",
       "part                               int8\n",
       "content_sub_bundle                 int8\n",
       "tags0                              int8\n",
       "tags1                              int8\n",
       "tags2                              int8\n",
       "tags3                              int8\n",
       "tags4                              int8\n",
       "tags5                              int8\n",
       "part_bundle_id                    int32\n",
       "content_explation_false_mean    float16\n",
       "content_explation_true_mean     float16\n",
       "content_correctness             float16\n",
       "content_correctness_std         float16\n",
       "content_uncorrect_count           int32\n",
       "content_correct_count             int32\n",
       "content_elapsed_time_mean       float16\n",
       "content_had_explanation_mean    float16\n",
       "part_correctness_mean           float16\n",
       "part_correctness_std            float16\n",
       "part_uncor_count                  int32\n",
       "part_cor_count                    int32\n",
       "bundle_correctness_mean         float16\n",
       "dtype: object"
      ]
     },
     "execution_count": 79,
     "metadata": {},
     "output_type": "execute_result"
    }
   ],
   "source": [
    "questions_df.dtypes"
   ]
  },
  {
   "cell_type": "code",
   "execution_count": 80,
   "metadata": {
    "execution": {
     "iopub.execute_input": "2021-01-07T13:39:50.928691Z",
     "iopub.status.busy": "2021-01-07T13:39:50.927992Z",
     "iopub.status.idle": "2021-01-07T13:39:51.048826Z",
     "shell.execute_reply": "2021-01-07T13:39:51.049459Z"
    },
    "papermill": {
     "duration": 0.206687,
     "end_time": "2021-01-07T13:39:51.049626",
     "exception": false,
     "start_time": "2021-01-07T13:39:50.842939",
     "status": "completed"
    },
    "tags": []
   },
   "outputs": [
    {
     "data": {
      "text/plain": [
       "140"
      ]
     },
     "execution_count": 80,
     "metadata": {},
     "output_type": "execute_result"
    }
   ],
   "source": [
    "del content_agg\n",
    "del bundle_agg\n",
    "del part_agg\n",
    "#del tags1_agg\n",
    "gc.collect()"
   ]
  },
  {
   "cell_type": "code",
   "execution_count": 81,
   "metadata": {
    "execution": {
     "iopub.execute_input": "2021-01-07T13:39:51.215113Z",
     "iopub.status.busy": "2021-01-07T13:39:51.214386Z",
     "iopub.status.idle": "2021-01-07T13:39:51.217870Z",
     "shell.execute_reply": "2021-01-07T13:39:51.218463Z"
    },
    "papermill": {
     "duration": 0.087915,
     "end_time": "2021-01-07T13:39:51.218606",
     "exception": false,
     "start_time": "2021-01-07T13:39:51.130691",
     "status": "completed"
    },
    "tags": []
   },
   "outputs": [],
   "source": [
    "#pd.set_option(\"display.max_columns\",500)"
   ]
  },
  {
   "cell_type": "code",
   "execution_count": 82,
   "metadata": {
    "execution": {
     "iopub.execute_input": "2021-01-07T13:39:51.384727Z",
     "iopub.status.busy": "2021-01-07T13:39:51.384001Z",
     "iopub.status.idle": "2021-01-07T13:39:51.389234Z",
     "shell.execute_reply": "2021-01-07T13:39:51.388705Z"
    },
    "papermill": {
     "duration": 0.089127,
     "end_time": "2021-01-07T13:39:51.389352",
     "exception": false,
     "start_time": "2021-01-07T13:39:51.300225",
     "status": "completed"
    },
    "tags": []
   },
   "outputs": [],
   "source": [
    "#questions_df.drop(columns=['tags4','tags5','tags6'], inplace=True)"
   ]
  },
  {
   "cell_type": "code",
   "execution_count": 83,
   "metadata": {
    "execution": {
     "iopub.execute_input": "2021-01-07T13:39:51.553721Z",
     "iopub.status.busy": "2021-01-07T13:39:51.552897Z",
     "iopub.status.idle": "2021-01-07T13:39:51.559173Z",
     "shell.execute_reply": "2021-01-07T13:39:51.558627Z"
    },
    "papermill": {
     "duration": 0.089688,
     "end_time": "2021-01-07T13:39:51.559305",
     "exception": false,
     "start_time": "2021-01-07T13:39:51.469617",
     "status": "completed"
    },
    "tags": []
   },
   "outputs": [
    {
     "data": {
      "text/plain": [
       "99271300"
      ]
     },
     "execution_count": 83,
     "metadata": {},
     "output_type": "execute_result"
    }
   ],
   "source": [
    "len(train_df)"
   ]
  },
  {
   "cell_type": "code",
   "execution_count": 84,
   "metadata": {
    "execution": {
     "iopub.execute_input": "2021-01-07T13:39:51.731551Z",
     "iopub.status.busy": "2021-01-07T13:39:51.730799Z",
     "iopub.status.idle": "2021-01-07T13:39:51.734085Z",
     "shell.execute_reply": "2021-01-07T13:39:51.733485Z"
    },
    "papermill": {
     "duration": 0.091842,
     "end_time": "2021-01-07T13:39:51.734238",
     "exception": false,
     "start_time": "2021-01-07T13:39:51.642396",
     "status": "completed"
    },
    "tags": []
   },
   "outputs": [],
   "source": [
    "#train_df.drop(columns=['content_type_id'], inplace=True)"
   ]
  },
  {
   "cell_type": "markdown",
   "metadata": {
    "papermill": {
     "duration": 0.082308,
     "end_time": "2021-01-07T13:39:51.900445",
     "exception": false,
     "start_time": "2021-01-07T13:39:51.818137",
     "status": "completed"
    },
    "tags": []
   },
   "source": [
    "# Train"
   ]
  },
  {
   "cell_type": "code",
   "execution_count": 85,
   "metadata": {
    "execution": {
     "iopub.execute_input": "2021-01-07T13:39:52.085286Z",
     "iopub.status.busy": "2021-01-07T13:39:52.084506Z",
     "iopub.status.idle": "2021-01-07T13:39:52.088874Z",
     "shell.execute_reply": "2021-01-07T13:39:52.088172Z"
    },
    "papermill": {
     "duration": 0.102234,
     "end_time": "2021-01-07T13:39:52.088993",
     "exception": false,
     "start_time": "2021-01-07T13:39:51.986759",
     "status": "completed"
    },
    "tags": []
   },
   "outputs": [],
   "source": [
    "features_dict = {\n",
    "    #'user_id',\n",
    "    'timestamp':'float16',# pass\n",
    "    'user_interaction_count':'int16',\n",
    "    'user_interaction_timestamp_mean':'float32',\n",
    "    'lagtime':'float32',#\n",
    "    'lagtime2':'float32',\n",
    "    'lagtime3':'float32',\n",
    "#     'lagtime_mean':'int32',\n",
    "    'content_id':'int16',\n",
    "   # 'task_container_id':'int16',pass\n",
    "    'user_lecture_sum':'int16',#\n",
    "    'user_lecture_lv':'float16',##\n",
    "    'prior_question_elapsed_time':'float32',#\n",
    "    'delta_prior_question_elapsed_time':'int32',#\n",
    "    'user_correctness':'float16',#\n",
    "    'user_uncorrect_count':'int16',#\n",
    "    'user_correct_count':'int16',#\n",
    "    'content_correctness':'float16',#使用\n",
    "   # 'content_correctness_std':'float16',pass\n",
    "    'content_correct_count':'int32',\n",
    "    'content_uncorrect_count':'int32',#\n",
    "    'content_elapsed_time_mean':'float16',\n",
    "    'content_had_explanation_mean':'float16',\n",
    "    'content_explation_false_mean':'float16',\n",
    "    'content_explation_true_mean':'float16',\n",
    "    'task_container_correctness':'float16',\n",
    "    #'task_container_std':'float16',pass\n",
    "    'task_container_cor_count':'int32',#\n",
    "  #  'task_container_uncor_count':'int32',#\n",
    "    'attempt_no':'int8',#\n",
    "    'part':'int8',\n",
    "    'part_correctness_mean':'float16',\n",
    "   # 'part_correctness_std':'float16',pass\n",
    "    'part_uncor_count':'int32',\n",
    "    'part_cor_count':'int32',\n",
    "   # 'tags0': 'int8',\n",
    "    'tags1': 'int8',\n",
    "    #'tags2': 'int8',pass\n",
    "    \n",
    "   # 'tags3': 'int8',\n",
    "   # 'tags4': 'int8',\n",
    "   # 'tags5': 'int8',\n",
    "   # 'tags6': 'int8',\n",
    "   # 'tags7': 'int8',\n",
    "#     'tags0_correctness_mean':'float16',\n",
    "#     'tags1_correctness_mean':'float16',\n",
    "#     'tags2_correctness_mean':'float16',\n",
    "#     'tags4_correctness_mean':'float16',\n",
    "#     'bundle_id':'int16',\n",
    "#     'bundle_correctness_mean':'float16',\n",
    "#     'bundle_uncor_count':'int32',\n",
    "#     'bundle_cor_count':'int32',\n",
    " #   'part_bundle_id':'int32',pass\n",
    "    'content_sub_bundle':'int8',\n",
    "    'prior_question_had_explanation':'int8',\n",
    "    'explanation_mean':'float16', #\n",
    "    #'explanation_var',#\n",
    "    'explanation_false_count':'int16',#\n",
    " #   'explanation_true_count':'int16',#\n",
    "   # 'community':'int8',\n",
    "#     'part_1',\n",
    "#     'part_2',\n",
    "#     'part_3',\n",
    "#     'part_4',\n",
    "#     'part_5',\n",
    "#     'part_6',\n",
    "#     'part_7',\n",
    "#     'type_of_concept',\n",
    "#     'type_of_intention',\n",
    "#     'type_of_solving_question',\n",
    "#     'type_of_starter'\n",
    "}\n",
    "categorical_columns= [\n",
    "    #'user_id',\n",
    "    'content_id',\n",
    "   # 'task_container_id',\n",
    "    'part',\n",
    "   # 'community',\n",
    "  #  'tags0',\n",
    "    'tags1',\n",
    "    #'tags2',pass\n",
    "    #'tags3',\n",
    "    #'tags4',\n",
    "    #'tags5',\n",
    "    #'tags6',\n",
    "    #'tags7',\n",
    "    #'bundle_id',\n",
    " #   'part_bundle_id',\n",
    "    'content_sub_bundle',\n",
    "    'prior_question_had_explanation', \n",
    "#     'part_1',\n",
    "#     'part_2',\n",
    "#     'part_3',\n",
    "#     'part_4',\n",
    "#     'part_5',\n",
    "#     'part_6',\n",
    "#     'part_7',\n",
    "#     'type_of_concept',\n",
    "#     'type_of_intention',\n",
    "#     'type_of_solving_question',\n",
    "#     'type_of_starter'\n",
    "]\n",
    "\n",
    "features=list(features_dict.keys())"
   ]
  },
  {
   "cell_type": "code",
   "execution_count": 86,
   "metadata": {
    "execution": {
     "iopub.execute_input": "2021-01-07T13:39:52.299533Z",
     "iopub.status.busy": "2021-01-07T13:39:52.262532Z",
     "iopub.status.idle": "2021-01-07T13:40:31.926017Z",
     "shell.execute_reply": "2021-01-07T13:40:31.926604Z"
    },
    "papermill": {
     "duration": 39.755608,
     "end_time": "2021-01-07T13:40:31.926768",
     "exception": false,
     "start_time": "2021-01-07T13:39:52.171160",
     "status": "completed"
    },
    "tags": []
   },
   "outputs": [
    {
     "data": {
      "text/plain": [
       "SAKTModel(\n",
       "  (encoder): Encoder(\n",
       "    (embedding): Embedding(27047, 256)\n",
       "    (pos_embedding): Embedding(239, 256)\n",
       "    (e_embedding): Embedding(13524, 256)\n",
       "    (layers): ModuleList(\n",
       "      (0): TransformerBlock(\n",
       "        (multi_att): MultiheadAttention(\n",
       "          (out_proj): _LinearWithBias(in_features=256, out_features=256, bias=True)\n",
       "        )\n",
       "        (dropout): Dropout(p=0.1, inplace=False)\n",
       "        (layer_normal): LayerNorm((256,), eps=1e-05, elementwise_affine=True)\n",
       "        (ffn): FFN(\n",
       "          (lr1): Linear(in_features=256, out_features=256, bias=True)\n",
       "          (relu): ReLU()\n",
       "          (bn): BatchNorm1d(239, eps=1e-05, momentum=0.1, affine=True, track_running_stats=True)\n",
       "          (lr2): Linear(in_features=256, out_features=256, bias=True)\n",
       "          (dropout): Dropout(p=0.1, inplace=False)\n",
       "        )\n",
       "        (ffn0): FFN0(\n",
       "          (lr1): Linear(in_features=256, out_features=256, bias=True)\n",
       "          (relu): ReLU()\n",
       "          (lr2): Linear(in_features=256, out_features=256, bias=True)\n",
       "          (layer_normal): LayerNorm((256,), eps=1e-05, elementwise_affine=True)\n",
       "          (dropout): Dropout(p=0.2, inplace=False)\n",
       "        )\n",
       "        (layer_normal_2): LayerNorm((256,), eps=1e-05, elementwise_affine=True)\n",
       "      )\n",
       "    )\n",
       "    (dropout): Dropout(p=0.1, inplace=False)\n",
       "  )\n",
       "  (pred): Linear(in_features=256, out_features=1, bias=True)\n",
       ")"
      ]
     },
     "execution_count": 86,
     "metadata": {},
     "output_type": "execute_result"
    }
   ],
   "source": [
    "import torch\n",
    "import torch.nn as nn\n",
    "from torch.utils.data import Dataset, DataLoader\n",
    "\n",
    "\n",
    "MAX_SEQ = 240\n",
    "ACCEPTED_USER_CONTENT_SIZE = 2\n",
    "EMBED_SIZE = 256\n",
    "BATCH_SIZE = 96\n",
    "DROPOUT = 0.1\n",
    "\n",
    "class FFN(nn.Module):\n",
    "    def __init__(self, state_size = 200, forward_expansion = 1, bn_size = MAX_SEQ - 1, dropout=0.2):\n",
    "        super(FFN, self).__init__()\n",
    "        self.state_size = state_size\n",
    "        \n",
    "        self.lr1 = nn.Linear(state_size, forward_expansion * state_size)\n",
    "        self.relu = nn.ReLU()\n",
    "        self.bn = nn.BatchNorm1d(bn_size)\n",
    "        self.lr2 = nn.Linear(forward_expansion * state_size, state_size)\n",
    "        self.dropout = nn.Dropout(dropout)\n",
    "        \n",
    "    def forward(self, x):\n",
    "        x = self.relu(self.lr1(x))\n",
    "        x = self.bn(x)\n",
    "        x = self.lr2(x)\n",
    "        return self.dropout(x)\n",
    "    \n",
    "class FFN0(nn.Module):\n",
    "    def __init__(self, state_size = 200, forward_expansion = 1, bn_size = MAX_SEQ - 1, dropout=0.2):\n",
    "        super(FFN0, self).__init__()\n",
    "        self.state_size = state_size\n",
    "\n",
    "        self.lr1 = nn.Linear(state_size, forward_expansion * state_size)\n",
    "        self.relu = nn.ReLU()\n",
    "        self.lr2 = nn.Linear(forward_expansion * state_size, state_size)\n",
    "        self.layer_normal = nn.LayerNorm(state_size) \n",
    "        self.dropout = nn.Dropout(0.2)\n",
    "    \n",
    "    def forward(self, x):\n",
    "        x = self.lr1(x)\n",
    "        x = self.relu(x)\n",
    "        x = self.lr2(x)\n",
    "        x=self.layer_normal(x)\n",
    "        return self.dropout(x)\n",
    "\n",
    "def future_mask(seq_length):\n",
    "    future_mask = (np.triu(np.ones([seq_length, seq_length]), k = 1)).astype('bool')\n",
    "    return torch.from_numpy(future_mask)\n",
    "\n",
    "future_mask(5)\n",
    "\n",
    "class TransformerBlock(nn.Module):\n",
    "    def __init__(self, embed_dim, heads = 8, dropout = DROPOUT, forward_expansion = 1):\n",
    "        super(TransformerBlock, self).__init__()\n",
    "        self.multi_att = nn.MultiheadAttention(embed_dim=embed_dim, num_heads=heads, dropout=dropout)\n",
    "        self.dropout = nn.Dropout(dropout)\n",
    "        self.layer_normal = nn.LayerNorm(embed_dim)\n",
    "        self.ffn = FFN(embed_dim, forward_expansion = forward_expansion, dropout=dropout)\n",
    "        self.ffn0  = FFN0(embed_dim, forward_expansion = forward_expansion, dropout=dropout)\n",
    "        self.layer_normal_2 = nn.LayerNorm(embed_dim)\n",
    "\n",
    "    def forward(self, value, key, query, att_mask):\n",
    "        att_output, att_weight = self.multi_att(value, key, query, attn_mask=att_mask)\n",
    "        att_output = self.dropout(self.layer_normal(att_output + value))\n",
    "        att_output = att_output.permute(1, 0, 2) # att_output: [s_len, bs, embed] => [bs, s_len, embed]\n",
    "        x = self.ffn(att_output)\n",
    "        x1 = self.ffn0(att_output)\n",
    "        x = self.dropout(self.layer_normal_2(x + x1 + att_output))\n",
    "        return x.squeeze(-1), att_weight\n",
    "    \n",
    "class Encoder(nn.Module):\n",
    "    def __init__(self, n_skill, max_seq=100, embed_dim=128, dropout = DROPOUT, forward_expansion = 1, num_layers=1, heads = 8):\n",
    "        super(Encoder, self).__init__()\n",
    "        self.n_skill, self.embed_dim = n_skill, embed_dim\n",
    "        self.embedding = nn.Embedding(2 * n_skill + 1, embed_dim)\n",
    "        self.pos_embedding = nn.Embedding(max_seq - 1, embed_dim)\n",
    "        self.e_embedding = nn.Embedding(n_skill+1, embed_dim)\n",
    "        self.layers = nn.ModuleList([TransformerBlock(embed_dim, forward_expansion = forward_expansion) for _ in range(num_layers)])\n",
    "        self.dropout = nn.Dropout(dropout)\n",
    "        \n",
    "    def forward(self, x, question_ids):\n",
    "        device = x.device\n",
    "        x = self.embedding(x)\n",
    "        pos_id = torch.arange(x.size(1)).unsqueeze(0).to(device)\n",
    "        pos_x = self.pos_embedding(pos_id)\n",
    "        x = self.dropout(x + pos_x)\n",
    "        x = x.permute(1, 0, 2) # x: [bs, s_len, embed] => [s_len, bs, embed]\n",
    "        e = self.e_embedding(question_ids)\n",
    "        e = e.permute(1, 0, 2)\n",
    "        for layer in self.layers:\n",
    "            att_mask = future_mask(e.size(0)).to(device)\n",
    "            x, att_weight = layer(e, x, x, att_mask=att_mask)\n",
    "            x = x.permute(1, 0, 2)\n",
    "        x = x.permute(1, 0, 2)\n",
    "        return x, att_weight\n",
    "\n",
    "class SAKTModel(nn.Module):\n",
    "    def __init__(self, n_skill, max_seq=100, embed_dim=128, dropout = DROPOUT, forward_expansion = 1, enc_layers=1, heads = 8):\n",
    "        super(SAKTModel, self).__init__()\n",
    "        self.encoder = Encoder(n_skill, max_seq, embed_dim, dropout, forward_expansion, num_layers=enc_layers)\n",
    "        self.pred = nn.Linear(embed_dim, 1)\n",
    "        \n",
    "    def forward(self, x, question_ids):\n",
    "        x, att_weight = self.encoder(x, question_ids)\n",
    "        x = self.pred(x)\n",
    "        return x.squeeze(-1), att_weight\n",
    "def create_model():\n",
    "    return SAKTModel(n_skill, max_seq=MAX_SEQ, embed_dim=EMBED_SIZE, forward_expansion=1, enc_layers=1, heads=4, dropout=0.1)  \n",
    "    \n",
    "skills = joblib.load(\"/kaggle/input/riiid-sakt-model-dataset-public/skills.pkl.zip\")\n",
    "n_skill = len(skills)\n",
    "group = joblib.load(\"../input/riiid-self-attention-transformer/group.pkl\")\n",
    "\n",
    "\n",
    "device = torch.device(\"cuda\" if torch.cuda.is_available() else \"cpu\")\n",
    "\n",
    "nn_model = create_model()\n",
    "try:\n",
    "    nn_model.load_state_dict(torch.load(\"../input/saktnewqbc/sakt_model (1).pt\"))\n",
    "except:\n",
    "    nn_model.load_state_dict(torch.load(\"../input/saktnewqbc/sakt_model (1).pt\", map_location=torch.device('cpu')))\n",
    "nn_model.to(device)\n",
    "nn_model.eval()\n",
    "\n"
   ]
  },
  {
   "cell_type": "markdown",
   "metadata": {
    "papermill": {
     "duration": 0.081832,
     "end_time": "2021-01-07T13:40:32.097636",
     "exception": false,
     "start_time": "2021-01-07T13:40:32.015804",
     "status": "completed"
    },
    "tags": []
   },
   "source": [
    "# Inference"
   ]
  },
  {
   "cell_type": "code",
   "execution_count": 87,
   "metadata": {
    "execution": {
     "iopub.execute_input": "2021-01-07T13:40:32.280762Z",
     "iopub.status.busy": "2021-01-07T13:40:32.279729Z",
     "iopub.status.idle": "2021-01-07T13:40:32.283770Z",
     "shell.execute_reply": "2021-01-07T13:40:32.282925Z"
    },
    "papermill": {
     "duration": 0.102129,
     "end_time": "2021-01-07T13:40:32.283920",
     "exception": false,
     "start_time": "2021-01-07T13:40:32.181791",
     "status": "completed"
    },
    "tags": []
   },
   "outputs": [],
   "source": [
    "class TestDataset(Dataset):\n",
    "    def __init__(self, samples, test_df, n_skill, max_seq=100):\n",
    "        super(TestDataset, self).__init__()\n",
    "        self.samples, self.user_ids, self.test_df = samples, [x for x in test_df[\"user_id\"].unique()], test_df\n",
    "        self.n_skill, self.max_seq = n_skill, max_seq\n",
    "\n",
    "    def __len__(self):\n",
    "        return self.test_df.shape[0]\n",
    "    \n",
    "    def __getitem__(self, index):\n",
    "        test_info = self.test_df.iloc[index]\n",
    "        \n",
    "        user_id = test_info['user_id']\n",
    "        target_id = test_info['content_id']\n",
    "        \n",
    "        content_id_seq = np.zeros(self.max_seq, dtype=int)\n",
    "        answered_correctly_seq = np.zeros(self.max_seq, dtype=int)\n",
    "        \n",
    "        if user_id in self.samples.index:\n",
    "            content_id, answered_correctly = self.samples[user_id]\n",
    "            \n",
    "            seq_len = len(content_id)\n",
    "            \n",
    "            if seq_len >= self.max_seq:\n",
    "                content_id_seq = content_id[-self.max_seq:]\n",
    "                answered_correctly_seq = answered_correctly[-self.max_seq:]\n",
    "            else:\n",
    "                content_id_seq[-seq_len:] = content_id\n",
    "                answered_correctly_seq[-seq_len:] = answered_correctly\n",
    "                \n",
    "        x = content_id_seq[1:].copy()\n",
    "        x += (answered_correctly_seq[1:] == 1) * self.n_skill\n",
    "        \n",
    "        questions = np.append(content_id_seq[2:], [target_id])\n",
    "        \n",
    "        return x, questions"
   ]
  },
  {
   "cell_type": "code",
   "execution_count": 88,
   "metadata": {
    "execution": {
     "iopub.execute_input": "2021-01-07T13:40:32.925236Z",
     "iopub.status.busy": "2021-01-07T13:40:32.694979Z",
     "iopub.status.idle": "2021-01-07T13:40:32.928765Z",
     "shell.execute_reply": "2021-01-07T13:40:32.928062Z"
    },
    "papermill": {
     "duration": 0.561103,
     "end_time": "2021-01-07T13:40:32.928906",
     "exception": false,
     "start_time": "2021-01-07T13:40:32.367803",
     "status": "completed"
    },
    "tags": []
   },
   "outputs": [],
   "source": [
    "user_sum_dict = user_agg['sum'].astype('int16').to_dict(defaultdict(int))\n",
    "user_count_dict = user_agg['count'].astype('int16').to_dict(defaultdict(int))\n",
    "# user_sum_dict2 = user_agg2['sum'].astype('int16').to_dict(defaultdict(int))\n",
    "# user_count_dict2 = user_agg2['count'].astype('int16').to_dict(defaultdict(int))"
   ]
  },
  {
   "cell_type": "code",
   "execution_count": 89,
   "metadata": {
    "execution": {
     "iopub.execute_input": "2021-01-07T13:40:33.098929Z",
     "iopub.status.busy": "2021-01-07T13:40:33.098234Z",
     "iopub.status.idle": "2021-01-07T13:40:33.940892Z",
     "shell.execute_reply": "2021-01-07T13:40:33.941458Z"
    },
    "papermill": {
     "duration": 0.929413,
     "end_time": "2021-01-07T13:40:33.941632",
     "exception": false,
     "start_time": "2021-01-07T13:40:33.012219",
     "status": "completed"
    },
    "tags": []
   },
   "outputs": [
    {
     "data": {
      "text/plain": [
       "0"
      ]
     },
     "execution_count": 89,
     "metadata": {},
     "output_type": "execute_result"
    }
   ],
   "source": [
    "#user_var_dict = user_agg['var'].astype('float16').to_dict(defaultdict(int))\n",
    "\n",
    "# content_sum_dict = content_agg['sum'].astype('int32').to_dict(defaultdict(int))\n",
    "# content_count_dict = content_agg['count'].astype('int32').to_dict(defaultdict(int))\n",
    "\n",
    "del user_agg\n",
    "#del user_agg2\n",
    "#del content_agg\n",
    "gc.collect()\n",
    "\n",
    "task_container_sum_dict = task_container_agg['sum'].astype('int32').to_dict(defaultdict(int))\n",
    "task_container_count_dict = task_container_agg['count'].astype('int32').to_dict(defaultdict(int))\n",
    "task_container_std_dict = task_container_agg['var'].astype('float16').to_dict(defaultdict(int))\n",
    "\n",
    "explanation_sum_dict = explanation_agg['sum'].astype('int16').to_dict(defaultdict(int))\n",
    "explanation_count_dict = explanation_agg['count'].astype('int16').to_dict(defaultdict(int))\n",
    "#explanation_var_dict = explanation_agg['var'].astype('float16').to_dict(defaultdict(int))\n",
    "del task_container_agg\n",
    "del explanation_agg\n",
    "gc.collect()"
   ]
  },
  {
   "cell_type": "code",
   "execution_count": 90,
   "metadata": {
    "execution": {
     "iopub.execute_input": "2021-01-07T13:40:34.116339Z",
     "iopub.status.busy": "2021-01-07T13:40:34.115497Z",
     "iopub.status.idle": "2021-01-07T13:40:34.118719Z",
     "shell.execute_reply": "2021-01-07T13:40:34.119320Z"
    },
    "papermill": {
     "duration": 0.09223,
     "end_time": "2021-01-07T13:40:34.119487",
     "exception": false,
     "start_time": "2021-01-07T13:40:34.027257",
     "status": "completed"
    },
    "tags": []
   },
   "outputs": [],
   "source": [
    "#task_container_std_dict"
   ]
  },
  {
   "cell_type": "code",
   "execution_count": 91,
   "metadata": {
    "execution": {
     "iopub.execute_input": "2021-01-07T13:40:34.297638Z",
     "iopub.status.busy": "2021-01-07T13:40:34.296831Z",
     "iopub.status.idle": "2021-01-07T13:40:34.861618Z",
     "shell.execute_reply": "2021-01-07T13:40:34.862249Z"
    },
    "papermill": {
     "duration": 0.656397,
     "end_time": "2021-01-07T13:40:34.862426",
     "exception": false,
     "start_time": "2021-01-07T13:40:34.206029",
     "status": "completed"
    },
    "tags": []
   },
   "outputs": [
    {
     "data": {
      "text/plain": [
       "40"
      ]
     },
     "execution_count": 91,
     "metadata": {},
     "output_type": "execute_result"
    }
   ],
   "source": [
    "user_lecture_sum_dict = user_lecture_agg['sum'].astype('int16').to_dict(defaultdict(int))\n",
    "user_lecture_count_dict = user_lecture_agg['count'].astype('int16').to_dict(defaultdict(int))\n",
    "#lagtime_mean_dict = lagtime_agg['mean'].astype('int32').to_dict(defaultdict(int))\n",
    "#del prior_question_elapsed_time_agg\n",
    "del user_lecture_agg\n",
    "#del lagtime_agg\n",
    "gc.collect()"
   ]
  },
  {
   "cell_type": "code",
   "execution_count": 92,
   "metadata": {
    "execution": {
     "iopub.execute_input": "2021-01-07T13:40:35.038382Z",
     "iopub.status.busy": "2021-01-07T13:40:35.037663Z",
     "iopub.status.idle": "2021-01-07T13:40:36.143545Z",
     "shell.execute_reply": "2021-01-07T13:40:36.142876Z"
    },
    "papermill": {
     "duration": 1.194771,
     "end_time": "2021-01-07T13:40:36.143674",
     "exception": false,
     "start_time": "2021-01-07T13:40:34.948903",
     "status": "completed"
    },
    "tags": []
   },
   "outputs": [
    {
     "data": {
      "text/plain": [
       "20"
      ]
     },
     "execution_count": 92,
     "metadata": {},
     "output_type": "execute_result"
    }
   ],
   "source": [
    "max_timestamp_u_dict=max_timestamp_u.set_index('user_id').to_dict()\n",
    "max_timestamp_u_dict2=max_timestamp_u2.set_index('user_id').to_dict()\n",
    "max_timestamp_u_dict3=max_timestamp_u3.set_index('user_id').to_dict()\n",
    "user_prior_question_elapsed_time_dict=user_prior_question_elapsed_time.set_index('user_id').to_dict()\n",
    "#del question_elapsed_time_agg\n",
    "del max_timestamp_u\n",
    "del max_timestamp_u2\n",
    "del max_timestamp_u3\n",
    "del user_prior_question_elapsed_time\n",
    "gc.collect()"
   ]
  },
  {
   "cell_type": "code",
   "execution_count": 93,
   "metadata": {
    "execution": {
     "iopub.execute_input": "2021-01-07T13:40:36.316620Z",
     "iopub.status.busy": "2021-01-07T13:40:36.315946Z",
     "iopub.status.idle": "2021-01-07T13:40:55.802385Z",
     "shell.execute_reply": "2021-01-07T13:40:55.802958Z"
    },
    "papermill": {
     "duration": 19.575078,
     "end_time": "2021-01-07T13:40:55.803168",
     "exception": false,
     "start_time": "2021-01-07T13:40:36.228090",
     "status": "completed"
    },
    "tags": []
   },
   "outputs": [
    {
     "data": {
      "text/plain": [
       "0"
      ]
     },
     "execution_count": 93,
     "metadata": {},
     "output_type": "execute_result"
    }
   ],
   "source": [
    "attempt_no_sum_dict = attempt_no_agg['sum'].to_dict(defaultdict(int))\n",
    "\n",
    "del attempt_no_agg\n",
    "gc.collect()"
   ]
  },
  {
   "cell_type": "code",
   "execution_count": 94,
   "metadata": {
    "execution": {
     "iopub.execute_input": "2021-01-07T13:40:55.985687Z",
     "iopub.status.busy": "2021-01-07T13:40:55.984937Z",
     "iopub.status.idle": "2021-01-07T13:40:55.990408Z",
     "shell.execute_reply": "2021-01-07T13:40:55.990947Z"
    },
    "papermill": {
     "duration": 0.096575,
     "end_time": "2021-01-07T13:40:55.991164",
     "exception": false,
     "start_time": "2021-01-07T13:40:55.894589",
     "status": "completed"
    },
    "tags": []
   },
   "outputs": [],
   "source": [
    "def get_max_attempt(user_id,content_id):\n",
    "    k = (user_id,content_id)\n",
    "\n",
    "    if k in attempt_no_sum_dict.keys():\n",
    "        attempt_no_sum_dict[k]+=1\n",
    "        return attempt_no_sum_dict[k]\n",
    "\n",
    "    attempt_no_sum_dict[k] = 1\n",
    "    return attempt_no_sum_dict[k]"
   ]
  },
  {
   "cell_type": "code",
   "execution_count": 95,
   "metadata": {
    "execution": {
     "iopub.execute_input": "2021-01-07T13:40:56.166786Z",
     "iopub.status.busy": "2021-01-07T13:40:56.166034Z",
     "iopub.status.idle": "2021-01-07T13:41:01.539795Z",
     "shell.execute_reply": "2021-01-07T13:41:01.540459Z"
    },
    "papermill": {
     "duration": 5.463419,
     "end_time": "2021-01-07T13:41:01.540640",
     "exception": false,
     "start_time": "2021-01-07T13:40:56.077221",
     "status": "completed"
    },
    "tags": []
   },
   "outputs": [],
   "source": [
    "# model1_lgb = lgb.Booster(model_file='../input/train-lgb-3/model3.txt')\n",
    "# model2_lgb = lgb.Booster(model_file='../input/modelnew1/model-new1.txt')\n",
    "# model3_lgb = lgb.Booster(model_file='../input/modelnew2/model-new2.txt')\n",
    "model4_lgb = lgb.Booster(model_file='../input/riiidlgb-model07883/lgb2.txt')\n",
    "# model5_lgb = lgb.Booster(model_file='../input/train-lgb-5/model5.txt')\n",
    "# model6_lgb = lgb.Booster(model_file='../input/train-lgb-6/model6.txt')\n",
    "# model7_lgb = lgb.Booster(model_file='../input/train-lgb-7/model7.txt')\n",
    "# model8_lgb = lgb.Booster(model_file='../input/train-lgb-8/model8.txt')\n",
    "# model9_lgb = lgb.Booster(model_file='../input/train-lgb-9/model9.txt')\n",
    "# model10_lgb = lgb.Booster(model_file='../input/train-lgb-10/model10.txt')\n",
    "env = riiideducation.make_env()"
   ]
  },
  {
   "cell_type": "code",
   "execution_count": 96,
   "metadata": {
    "execution": {
     "iopub.execute_input": "2021-01-07T13:41:01.716803Z",
     "iopub.status.busy": "2021-01-07T13:41:01.716061Z",
     "iopub.status.idle": "2021-01-07T13:41:01.719458Z",
     "shell.execute_reply": "2021-01-07T13:41:01.720024Z"
    },
    "papermill": {
     "duration": 0.093763,
     "end_time": "2021-01-07T13:41:01.720193",
     "exception": false,
     "start_time": "2021-01-07T13:41:01.626430",
     "status": "completed"
    },
    "tags": []
   },
   "outputs": [],
   "source": [
    "iter_test = env.iter_test()\n",
    "prior_test_df = None\n",
    "prev_test_df1 = None"
   ]
  },
  {
   "cell_type": "code",
   "execution_count": 97,
   "metadata": {
    "execution": {
     "iopub.execute_input": "2021-01-07T13:41:01.897746Z",
     "iopub.status.busy": "2021-01-07T13:41:01.897029Z",
     "iopub.status.idle": "2021-01-07T13:41:01.901276Z",
     "shell.execute_reply": "2021-01-07T13:41:01.901746Z"
    },
    "papermill": {
     "duration": 0.095725,
     "end_time": "2021-01-07T13:41:01.901897",
     "exception": false,
     "start_time": "2021-01-07T13:41:01.806172",
     "status": "completed"
    },
    "tags": []
   },
   "outputs": [],
   "source": [
    "N=[0.4,0.6]"
   ]
  },
  {
   "cell_type": "code",
   "execution_count": 98,
   "metadata": {
    "execution": {
     "iopub.execute_input": "2021-01-07T13:41:02.079854Z",
     "iopub.status.busy": "2021-01-07T13:41:02.079040Z",
     "iopub.status.idle": "2021-01-07T13:41:03.959126Z",
     "shell.execute_reply": "2021-01-07T13:41:03.958540Z"
    },
    "papermill": {
     "duration": 1.969935,
     "end_time": "2021-01-07T13:41:03.959262",
     "exception": false,
     "start_time": "2021-01-07T13:41:01.989327",
     "status": "completed"
    },
    "tags": []
   },
   "outputs": [
    {
     "name": "stdout",
     "output_type": "stream",
     "text": [
      "CPU times: user 2.35 s, sys: 449 ms, total: 2.8 s\n",
      "Wall time: 1.84 s\n"
     ]
    }
   ],
   "source": [
    "%%time\n",
    "\n",
    "for (test_df, sample_prediction_df) in iter_test:\n",
    "    test_df1=test_df.copy()\n",
    "    if (prev_test_df1 is not None):\n",
    "        prev_test_df1['answered_correctly'] = eval(test_df1['prior_group_answers_correct'].iloc[0])\n",
    "        prev_test_df1 = prev_test_df1[prev_test_df1.content_type_id == False]\n",
    "        \n",
    "        prev_group = prev_test_df1[['user_id', 'content_id', 'answered_correctly']].groupby('user_id').apply(lambda r: (\n",
    "            r['content_id'].values,\n",
    "            r['answered_correctly'].values))\n",
    "        for prev_user_id in prev_group.index:\n",
    "            prev_group_content = prev_group[prev_user_id][0]\n",
    "            prev_group_answered_correctly = prev_group[prev_user_id][1]\n",
    "            if prev_user_id in group.index:\n",
    "                group[prev_user_id] = (np.append(group[prev_user_id][0], prev_group_content), \n",
    "                                       np.append(group[prev_user_id][1], prev_group_answered_correctly))\n",
    " \n",
    "            else:\n",
    "                 group[prev_user_id] = (prev_group_content, prev_group_answered_correctly)\n",
    "            if len(group[prev_user_id][0]) > MAX_SEQ:\n",
    "                new_group_content = group[prev_user_id][0][-MAX_SEQ:]\n",
    "                new_group_answered_correctly = group[prev_user_id][1][-MAX_SEQ:]\n",
    "                group[prev_user_id] = (new_group_content, new_group_answered_correctly)\n",
    "\n",
    "    prev_test_df1 = test_df1.copy()\n",
    "    \n",
    "    test_df1 = test_df1[test_df1.content_type_id == False]\n",
    "    test_dataset = TestDataset(group, test_df1, n_skill, max_seq=MAX_SEQ)\n",
    "    test_dataloader = DataLoader(test_dataset, batch_size=len(test_df1), shuffle=False)\n",
    "    \n",
    "    outs = []\n",
    "\n",
    "    for item in test_dataloader:\n",
    "        x = item[0].to(device).long()\n",
    "        target_id = item[1].to(device).long()\n",
    "        with torch.no_grad():\n",
    "            output, att_weight = nn_model(x, target_id)\n",
    "        outs.extend(torch.sigmoid(output)[:, -1].view(-1).data.cpu().numpy())\n",
    "        \n",
    "    #test_df1['answered_correctly'] = outs\n",
    "    \n",
    "    \n",
    "    \n",
    "    \n",
    "    ###for lgb\n",
    "    if prior_test_df is not None:\n",
    "        prior_test_df[target] = eval(test_df['prior_group_answers_correct'].iloc[0])\n",
    "        prior_test_df = prior_test_df[prior_test_df[target] != -1].reset_index(drop=True)\n",
    "        #prior_test_df = prior_test_df[prior_test_df[target] != -1]\n",
    "        prior_test_df['prior_question_had_explanation'].fillna(False, inplace=True)       \n",
    "        prior_test_df.prior_question_had_explanation=prior_test_df.prior_question_had_explanation.astype('int8')\n",
    "    \n",
    "        user_ids = prior_test_df['user_id'].values\n",
    "        #content_ids = prior_test_df['content_id'].values\n",
    "        #task_container_ids = prior_test_df['task_container_id'].values\n",
    "        #prior_question_had_explanations = prior_test_df['prior_question_had_explanation'].values\n",
    "        targets = prior_test_df[target].values        \n",
    "        \n",
    "        for user_id, answered_correctly in zip(user_ids,targets):\n",
    "            user_sum_dict[user_id] += answered_correctly\n",
    "            user_count_dict[user_id] += 1\n",
    "#             user_sum_dict2[user_id] += answered_correctly\n",
    "#             user_count_dict2[user_id] += 1   \n",
    "            \n",
    "\n",
    "    prior_test_df = test_df.copy() \n",
    "        \n",
    "    \n",
    "    question_len=len( test_df[test_df['content_type_id'] == 0])\n",
    "    test_df['prior_question_had_explanation'].fillna(False, inplace=True)\n",
    "    test_df.prior_question_had_explanation=test_df.prior_question_had_explanation.astype('int8')\n",
    "    test_df['prior_question_elapsed_time'].fillna(prior_question_elapsed_time_mean, inplace=True)\n",
    "    \n",
    "\n",
    "    user_lecture_sum = np.zeros(question_len, dtype=np.int16)\n",
    "    user_lecture_count = np.zeros(question_len, dtype=np.int16) \n",
    "    \n",
    "    user_sum = np.zeros(question_len, dtype=np.int16)\n",
    "    user_count = np.zeros(question_len, dtype=np.int16)\n",
    "#     user_sum2 = np.zeros(question_len, dtype=np.int16)\n",
    "#     user_count2 = np.zeros(question_len, dtype=np.int16)\n",
    "\n",
    "#     user_sum_dict_test=defaultdict(int)\n",
    "#     user_count_dict_test=defaultdict(int)\n",
    "\n",
    "    task_container_sum = np.zeros(question_len, dtype=np.int32)\n",
    "    task_container_count = np.zeros(question_len, dtype=np.int32)\n",
    "    task_container_std = np.zeros(question_len, dtype=np.float16)\n",
    "\n",
    "    explanation_sum = np.zeros(question_len, dtype=np.int32)\n",
    "    explanation_count = np.zeros(question_len, dtype=np.int32)\n",
    "    delta_prior_question_elapsed_time = np.zeros(question_len, dtype=np.int32)\n",
    "\n",
    "    attempt_no_count = np.zeros(question_len, dtype=np.int16)\n",
    "    lagtime = np.zeros(question_len, dtype=np.float32)\n",
    "    lagtime2 = np.zeros(question_len, dtype=np.float32)\n",
    "    lagtime3 = np.zeros(question_len, dtype=np.float32)\n",
    "    #lagtime_means = np.zeros(question_len, dtype=np.int32)\n",
    "    #\n",
    "   \n",
    "    i=0\n",
    "    for j, (user_id,prior_question_had_explanation,content_type_id,prior_question_elapsed_time,timestamp, content_id,task_container_id) in enumerate(zip(test_df['user_id'].values,test_df['prior_question_had_explanation'].values,test_df['content_type_id'].values,test_df['prior_question_elapsed_time'].values,test_df['timestamp'].values, test_df['content_id'].values, test_df['task_container_id'].values)):\n",
    "        \n",
    "         #\n",
    "        user_lecture_sum_dict[user_id] += content_type_id\n",
    "        user_lecture_count_dict[user_id] += 1\n",
    "        if(content_type_id==1):#\n",
    "            x=1\n",
    "#             if(len(user_lecture_stats_part[user_lecture_stats_part.user_id==user_id])==0):\n",
    "#                 user_lecture_stats_part = user_lecture_stats_part.append([{'user_id':user_id}], ignore_index=True)\n",
    "#                 user_lecture_stats_part.fillna(0, inplace=True)\n",
    "#                 user_lecture_stats_part.loc[user_lecture_stats_part.user_id==user_id,part_lectures_columns + types_of_lectures_columns]+=lectures_df[lectures_df.lecture_id==content_id][part_lectures_columns + types_of_lectures_columns].values\n",
    "#             else:\n",
    "#                 user_lecture_stats_part.loc[user_lecture_stats_part.user_id==user_id,part_lectures_columns + types_of_lectures_columns]+=lectures_df[lectures_df.lecture_id==content_id][part_lectures_columns + types_of_lectures_columns].values\n",
    "        if(content_type_id==0):#   \n",
    "            user_lecture_sum[i] = user_lecture_sum_dict[user_id]\n",
    "            user_lecture_count[i] = user_lecture_count_dict[user_id]\n",
    "                \n",
    "            user_sum[i] = user_sum_dict[user_id]\n",
    "            user_count[i] = user_count_dict[user_id]\n",
    "#             user_sum2[i] = user_sum_dict2[user_id]\n",
    "#             user_count2[i] = user_count_dict2[user_id]\n",
    "    #         content_sum[i] = content_sum_dict[content_id]\n",
    "    #         content_count[i] = content_count_dict[content_id]\n",
    "            task_container_sum[i] = task_container_sum_dict[task_container_id]\n",
    "            task_container_count[i] = task_container_count_dict[task_container_id]\n",
    "            task_container_std[i]=task_container_std_dict[task_container_id]\n",
    "\n",
    "            explanation_sum_dict[user_id] += prior_question_had_explanation\n",
    "            explanation_count_dict[user_id] += 1\n",
    "            explanation_sum[i] = explanation_sum_dict[user_id]\n",
    "            explanation_count[i] = explanation_count_dict[user_id]\n",
    "\n",
    "            if user_id in max_timestamp_u_dict['max_time_stamp'].keys():\n",
    "                lagtime[i]=timestamp-max_timestamp_u_dict['max_time_stamp'][user_id]\n",
    "                if(max_timestamp_u_dict2['max_time_stamp2'][user_id]==lagtime_mean2):#\n",
    "                    lagtime2[i]=lagtime_mean2\n",
    "                    lagtime3[i]=lagtime_mean3\n",
    "                    #max_timestamp_u_dict3['max_time_stamp3'].update({user_id:lagtime_mean3})\n",
    "                else:\n",
    "                    lagtime2[i]=timestamp-max_timestamp_u_dict2['max_time_stamp2'][user_id]\n",
    "                    if(max_timestamp_u_dict3['max_time_stamp3'][user_id]==lagtime_mean3):\n",
    "                        lagtime3[i]=lagtime_mean3 #\n",
    "                    else:\n",
    "                        lagtime3[i]=timestamp-max_timestamp_u_dict3['max_time_stamp3'][user_id]\n",
    "                    \n",
    "                    max_timestamp_u_dict3['max_time_stamp3'][user_id]=max_timestamp_u_dict2['max_time_stamp2'][user_id]\n",
    "                        \n",
    "                max_timestamp_u_dict2['max_time_stamp2'][user_id]=max_timestamp_u_dict['max_time_stamp'][user_id]\n",
    "                max_timestamp_u_dict['max_time_stamp'][user_id]=timestamp\n",
    "#                 lagtime_means[i]=(lagtime_mean_dict[user_id]+lagtime[i])/2\n",
    "#                 lagtime_mean_dict[user_id]=lagtime_means[i]\n",
    "            else:\n",
    "                lagtime[i]=lagtime_mean\n",
    "                max_timestamp_u_dict['max_time_stamp'].update({user_id:timestamp})\n",
    "                lagtime2[i]=lagtime_mean2#\n",
    "                max_timestamp_u_dict2['max_time_stamp2'].update({user_id:lagtime_mean2})\n",
    "                lagtime3[i]=lagtime_mean3#\n",
    "                max_timestamp_u_dict3['max_time_stamp3'].update({user_id:lagtime_mean3})\n",
    "#                 lagtime_mean_dict.update({user_id:lagtime_mean})\n",
    "#                 lagtime_means[i]=(lagtime_mean_dict[user_id]+lagtime[i])/2\n",
    "\n",
    "            if user_id in user_prior_question_elapsed_time_dict['prior_question_elapsed_time'].keys():            \n",
    "                delta_prior_question_elapsed_time[i]=prior_question_elapsed_time-user_prior_question_elapsed_time_dict['prior_question_elapsed_time'][user_id]\n",
    "                user_prior_question_elapsed_time_dict['prior_question_elapsed_time'][user_id]=prior_question_elapsed_time\n",
    "            else:           \n",
    "                delta_prior_question_elapsed_time[i]=delta_prior_question_elapsed_time_mean    \n",
    "                user_prior_question_elapsed_time_dict['prior_question_elapsed_time'].update({user_id:prior_question_elapsed_time})\n",
    "            i=i+1 \n",
    "\n",
    "\n",
    "        \n",
    "    test_df = test_df[test_df['content_type_id'] == 0].reset_index(drop=True)\n",
    "    #test_df = test_df[test_df['content_type_id'] == 0]\n",
    "    #right_index=True\n",
    "    #test_df = pd.merge(test_df, questions_df, on='content_id', how='left',right_index=True)    \n",
    "    #test_df = pd.concat([test_df.reset_index(drop=True), questions_df.reindex(test_df['content_id'].values).reset_index(drop=True)], axis=1)\n",
    "    test_df=test_df.merge(questions_df.loc[questions_df.index.isin(test_df['content_id'])],\n",
    "                  how='left', on='content_id', right_index=True)\n",
    "    \n",
    "    #test_df = pd.merge(test_df, user_lecture_stats_part, on=['user_id'], how=\"left\",right_index=True)\n",
    "    #test_df = pd.concat([test_df.reset_index(drop=True), user_lecture_stats_part.reindex(test_df['user_id'].values).reset_index(drop=True)], axis=1)\n",
    "#     test_df=test_df.merge(user_lecture_stats_part.loc[user_lecture_stats_part.index.isin(test_df['user_id'])],\n",
    "#                   how='left', on='user_id', right_index=True)\n",
    " \n",
    "    test_df['user_lecture_lv'] = user_lecture_sum / user_lecture_count\n",
    "    test_df['user_lecture_sum'] = user_lecture_sum\n",
    "    \n",
    "    test_df['user_interaction_count'] = user_lecture_count\n",
    "    test_df['user_interaction_timestamp_mean'] = test_df['timestamp']/user_lecture_count\n",
    "    \n",
    "    test_df['user_correctness'] = user_sum / user_count\n",
    "    test_df['user_uncorrect_count'] =user_count-user_sum\n",
    "    test_df['user_correct_count'] =user_sum\n",
    "    #test_df['user_answer_count'] =user_count\n",
    "    \n",
    "#     test_df['user_correctness2'] = user_sum2 / user_count2\n",
    "#     test_df['user_uncorrect_count2'] =user_count2-user_sum2\n",
    "#     test_df['user_correct_count2'] =user_sum2\n",
    "    #test_df['user_answer_count2'] =user_count2\n",
    "    \n",
    "    #    \n",
    "    test_df['task_container_correctness'] = task_container_sum / task_container_count\n",
    "    test_df['task_container_cor_count'] = task_container_sum \n",
    "#     test_df['task_container_uncor_count'] =task_container_count-task_container_sum \n",
    "#     test_df['task_container_std'] = task_container_std \n",
    "    #test_df['content_task_mean'] = content_task_mean \n",
    "    \n",
    "    test_df['explanation_mean'] = explanation_sum / explanation_count\n",
    "#     test_df['explanation_true_count'] = explanation_sum\n",
    "    test_df['explanation_false_count'] = explanation_count-explanation_sum \n",
    "    \n",
    "    #\n",
    "    test_df['delta_prior_question_elapsed_time'] = delta_prior_question_elapsed_time \n",
    "    \n",
    "  \n",
    " \n",
    "    test_df[\"attempt_no\"] = test_df[[\"user_id\", \"content_id\"]].apply(lambda row: get_max_attempt(row[\"user_id\"], row[\"content_id\"]), axis=1)\n",
    "    test_df[\"lagtime\"]=lagtime\n",
    "    test_df[\"lagtime2\"]=lagtime2\n",
    "    test_df[\"lagtime3\"]=lagtime3\n",
    "    #test_df[\"lagtime_mean\"]=lagtime_means\n",
    "\n",
    "    \n",
    "\n",
    "    test_df['timestamp']=test_df['timestamp']/(1000*3600)\n",
    "    test_df.timestamp=test_df.timestamp.astype('float16')\n",
    "    test_df['lagtime']=test_df['lagtime']/(1000*3600)\n",
    "    test_df.lagtime=test_df.lagtime.astype('float32')\n",
    "    test_df['lagtime2']=test_df['lagtime2']/(1000*3600)\n",
    "    test_df.lagtime2=test_df.lagtime2.astype('float32')\n",
    "    test_df['lagtime3']=test_df['lagtime3']/(1000*3600)\n",
    "    test_df.lagtime3=test_df.lagtime3.astype('float32')\n",
    "    test_df['user_interaction_timestamp_mean']=test_df['user_interaction_timestamp_mean']/(1000*3600)\n",
    "    test_df.user_interaction_timestamp_mean=test_df.user_interaction_timestamp_mean.astype('float32')\n",
    "    \n",
    "    test_df['user_correctness'].fillna(0.67, inplace=True)\n",
    "    #test_df['user_correctness2'].fillna(0.67, inplace=True)\n",
    "    #\n",
    "    #test_df = test_df.astype(features_dict)\n",
    "\n",
    "    sub_preds = np.zeros(test_df.shape[0])\n",
    "#     test_preds1  = model1_lgb.predict(test_df[features])\n",
    "#     test_preds2 = model2_lgb.predict(test_df[features])\n",
    "#     test_preds3  = model3_lgb.predict(test_df[features])\n",
    "    test_preds4  = model4_lgb.predict(test_df[features])\n",
    "#     test_preds5 = model5_lgb.predict(test_df[features])\n",
    "#     test_preds6  = model6_lgb.predict(test_df[features])\n",
    "#     test_preds7  = model7_lgb.predict(test_df[features])\n",
    "#     test_preds8 = model8_lgb.predict(test_df[features])\n",
    "#     test_preds9  = model9_lgb.predict(test_df[features])\n",
    "#     test_preds10  = model10_lgb.predict(test_df[features])\n",
    "#     sub_preds = (test_preds1+test_preds2+test_preds3+test_preds4+test_preds5+test_preds6+test_preds7+test_preds8+test_preds9+test_preds10)/10\n",
    "#     o2=sub_preds / len(clfs)\n",
    "#     sub_preds =(test_preds1+test_preds2+test_preds3)/3\n",
    "    sub_preds =test_preds4\n",
    "    test_df[target]=0.42*np.array(outs)+0.58*np.array(sub_preds)\n",
    "#     if(flag_lgbm):\n",
    "#         test_df[target] = model.predict(test_df[features])\n",
    "#     else:\n",
    "#         test_df[target] = model.predict(test_df[features].values)\n",
    "    env.predict(test_df[['row_id', target]])"
   ]
  },
  {
   "cell_type": "code",
   "execution_count": null,
   "metadata": {
    "papermill": {
     "duration": 0.086445,
     "end_time": "2021-01-07T13:41:04.133073",
     "exception": false,
     "start_time": "2021-01-07T13:41:04.046628",
     "status": "completed"
    },
    "tags": []
   },
   "outputs": [],
   "source": []
  },
  {
   "cell_type": "code",
   "execution_count": null,
   "metadata": {
    "papermill": {
     "duration": 0.086932,
     "end_time": "2021-01-07T13:41:04.307815",
     "exception": false,
     "start_time": "2021-01-07T13:41:04.220883",
     "status": "completed"
    },
    "tags": []
   },
   "outputs": [],
   "source": []
  }
 ],
 "metadata": {
  "kernelspec": {
   "display_name": "Python 3",
   "language": "python",
   "name": "python3"
  },
  "language_info": {
   "codemirror_mode": {
    "name": "ipython",
    "version": 3
   },
   "file_extension": ".py",
   "mimetype": "text/x-python",
   "name": "python",
   "nbconvert_exporter": "python",
   "pygments_lexer": "ipython3",
   "version": "3.7.6"
  },
  "papermill": {
   "duration": 510.064044,
   "end_time": "2021-01-07T13:41:04.604335",
   "environment_variables": {},
   "exception": null,
   "input_path": "__notebook__.ipynb",
   "output_path": "__notebook__.ipynb",
   "parameters": {},
   "start_time": "2021-01-07T13:32:34.540291",
   "version": "2.1.0"
  }
 },
 "nbformat": 4,
 "nbformat_minor": 4
}
